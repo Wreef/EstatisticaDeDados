{
  "nbformat": 4,
  "nbformat_minor": 0,
  "metadata": {
    "colab": {
      "name": "Regressão Polinomial.ipynb",
      "provenance": [],
      "collapsed_sections": []
    },
    "kernelspec": {
      "name": "python3",
      "display_name": "Python 3"
    },
    "language_info": {
      "name": "python"
    }
  },
  "cells": [
    {
      "cell_type": "markdown",
      "source": [
        "***\n",
        "# <font color=navy size=9>Regressão Polinomial</font>\n",
        "***"
      ],
      "metadata": {
        "id": "tbBs2sZqImD9"
      }
    },
    {
      "cell_type": "markdown",
      "source": [
        "## Dados para regressão\n",
        "Inicialmente iremos importar os dados para realizar a regressão polinomial."
      ],
      "metadata": {
        "id": "71Waq5VWMtHF"
      }
    },
    {
      "cell_type": "code",
      "execution_count": 1,
      "metadata": {
        "id": "k2pLxCemDI0G"
      },
      "outputs": [],
      "source": [
        "import pandas as pd"
      ]
    },
    {
      "cell_type": "code",
      "source": [
        "df = pd.read_csv('dados.csv')\n",
        "df"
      ],
      "metadata": {
        "colab": {
          "base_uri": "https://localhost:8080/",
          "height": 424
        },
        "id": "VEftOCVpGRjr",
        "outputId": "61c749b4-5d40-4be7-95fe-2c94b572678f"
      },
      "execution_count": 2,
      "outputs": [
        {
          "output_type": "execute_result",
          "data": {
            "text/html": [
              "\n",
              "  <div id=\"df-2f5d1abe-9cda-4102-80e1-4c80fc7a6738\">\n",
              "    <div class=\"colab-df-container\">\n",
              "      <div>\n",
              "<style scoped>\n",
              "    .dataframe tbody tr th:only-of-type {\n",
              "        vertical-align: middle;\n",
              "    }\n",
              "\n",
              "    .dataframe tbody tr th {\n",
              "        vertical-align: top;\n",
              "    }\n",
              "\n",
              "    .dataframe thead th {\n",
              "        text-align: right;\n",
              "    }\n",
              "</style>\n",
              "<table border=\"1\" class=\"dataframe\">\n",
              "  <thead>\n",
              "    <tr style=\"text-align: right;\">\n",
              "      <th></th>\n",
              "      <th>X</th>\n",
              "      <th>Y</th>\n",
              "    </tr>\n",
              "  </thead>\n",
              "  <tbody>\n",
              "    <tr>\n",
              "      <th>0</th>\n",
              "      <td>-2.000000</td>\n",
              "      <td>80.719587</td>\n",
              "    </tr>\n",
              "    <tr>\n",
              "      <th>1</th>\n",
              "      <td>-1.959596</td>\n",
              "      <td>70.171820</td>\n",
              "    </tr>\n",
              "    <tr>\n",
              "      <th>2</th>\n",
              "      <td>-1.919192</td>\n",
              "      <td>74.165193</td>\n",
              "    </tr>\n",
              "    <tr>\n",
              "      <th>3</th>\n",
              "      <td>-1.878788</td>\n",
              "      <td>48.018546</td>\n",
              "    </tr>\n",
              "    <tr>\n",
              "      <th>4</th>\n",
              "      <td>-1.838384</td>\n",
              "      <td>51.877748</td>\n",
              "    </tr>\n",
              "    <tr>\n",
              "      <th>...</th>\n",
              "      <td>...</td>\n",
              "      <td>...</td>\n",
              "    </tr>\n",
              "    <tr>\n",
              "      <th>95</th>\n",
              "      <td>1.838384</td>\n",
              "      <td>27.984713</td>\n",
              "    </tr>\n",
              "    <tr>\n",
              "      <th>96</th>\n",
              "      <td>1.878788</td>\n",
              "      <td>24.512449</td>\n",
              "    </tr>\n",
              "    <tr>\n",
              "      <th>97</th>\n",
              "      <td>1.919192</td>\n",
              "      <td>31.535195</td>\n",
              "    </tr>\n",
              "    <tr>\n",
              "      <th>98</th>\n",
              "      <td>1.959596</td>\n",
              "      <td>32.313269</td>\n",
              "    </tr>\n",
              "    <tr>\n",
              "      <th>99</th>\n",
              "      <td>2.000000</td>\n",
              "      <td>37.424469</td>\n",
              "    </tr>\n",
              "  </tbody>\n",
              "</table>\n",
              "<p>100 rows × 2 columns</p>\n",
              "</div>\n",
              "      <button class=\"colab-df-convert\" onclick=\"convertToInteractive('df-2f5d1abe-9cda-4102-80e1-4c80fc7a6738')\"\n",
              "              title=\"Convert this dataframe to an interactive table.\"\n",
              "              style=\"display:none;\">\n",
              "        \n",
              "  <svg xmlns=\"http://www.w3.org/2000/svg\" height=\"24px\"viewBox=\"0 0 24 24\"\n",
              "       width=\"24px\">\n",
              "    <path d=\"M0 0h24v24H0V0z\" fill=\"none\"/>\n",
              "    <path d=\"M18.56 5.44l.94 2.06.94-2.06 2.06-.94-2.06-.94-.94-2.06-.94 2.06-2.06.94zm-11 1L8.5 8.5l.94-2.06 2.06-.94-2.06-.94L8.5 2.5l-.94 2.06-2.06.94zm10 10l.94 2.06.94-2.06 2.06-.94-2.06-.94-.94-2.06-.94 2.06-2.06.94z\"/><path d=\"M17.41 7.96l-1.37-1.37c-.4-.4-.92-.59-1.43-.59-.52 0-1.04.2-1.43.59L10.3 9.45l-7.72 7.72c-.78.78-.78 2.05 0 2.83L4 21.41c.39.39.9.59 1.41.59.51 0 1.02-.2 1.41-.59l7.78-7.78 2.81-2.81c.8-.78.8-2.07 0-2.86zM5.41 20L4 18.59l7.72-7.72 1.47 1.35L5.41 20z\"/>\n",
              "  </svg>\n",
              "      </button>\n",
              "      \n",
              "  <style>\n",
              "    .colab-df-container {\n",
              "      display:flex;\n",
              "      flex-wrap:wrap;\n",
              "      gap: 12px;\n",
              "    }\n",
              "\n",
              "    .colab-df-convert {\n",
              "      background-color: #E8F0FE;\n",
              "      border: none;\n",
              "      border-radius: 50%;\n",
              "      cursor: pointer;\n",
              "      display: none;\n",
              "      fill: #1967D2;\n",
              "      height: 32px;\n",
              "      padding: 0 0 0 0;\n",
              "      width: 32px;\n",
              "    }\n",
              "\n",
              "    .colab-df-convert:hover {\n",
              "      background-color: #E2EBFA;\n",
              "      box-shadow: 0px 1px 2px rgba(60, 64, 67, 0.3), 0px 1px 3px 1px rgba(60, 64, 67, 0.15);\n",
              "      fill: #174EA6;\n",
              "    }\n",
              "\n",
              "    [theme=dark] .colab-df-convert {\n",
              "      background-color: #3B4455;\n",
              "      fill: #D2E3FC;\n",
              "    }\n",
              "\n",
              "    [theme=dark] .colab-df-convert:hover {\n",
              "      background-color: #434B5C;\n",
              "      box-shadow: 0px 1px 3px 1px rgba(0, 0, 0, 0.15);\n",
              "      filter: drop-shadow(0px 1px 2px rgba(0, 0, 0, 0.3));\n",
              "      fill: #FFFFFF;\n",
              "    }\n",
              "  </style>\n",
              "\n",
              "      <script>\n",
              "        const buttonEl =\n",
              "          document.querySelector('#df-2f5d1abe-9cda-4102-80e1-4c80fc7a6738 button.colab-df-convert');\n",
              "        buttonEl.style.display =\n",
              "          google.colab.kernel.accessAllowed ? 'block' : 'none';\n",
              "\n",
              "        async function convertToInteractive(key) {\n",
              "          const element = document.querySelector('#df-2f5d1abe-9cda-4102-80e1-4c80fc7a6738');\n",
              "          const dataTable =\n",
              "            await google.colab.kernel.invokeFunction('convertToInteractive',\n",
              "                                                     [key], {});\n",
              "          if (!dataTable) return;\n",
              "\n",
              "          const docLinkHtml = 'Like what you see? Visit the ' +\n",
              "            '<a target=\"_blank\" href=https://colab.research.google.com/notebooks/data_table.ipynb>data table notebook</a>'\n",
              "            + ' to learn more about interactive tables.';\n",
              "          element.innerHTML = '';\n",
              "          dataTable['output_type'] = 'display_data';\n",
              "          await google.colab.output.renderOutput(dataTable, element);\n",
              "          const docLink = document.createElement('div');\n",
              "          docLink.innerHTML = docLinkHtml;\n",
              "          element.appendChild(docLink);\n",
              "        }\n",
              "      </script>\n",
              "    </div>\n",
              "  </div>\n",
              "  "
            ],
            "text/plain": [
              "           X          Y\n",
              "0  -2.000000  80.719587\n",
              "1  -1.959596  70.171820\n",
              "2  -1.919192  74.165193\n",
              "3  -1.878788  48.018546\n",
              "4  -1.838384  51.877748\n",
              "..       ...        ...\n",
              "95  1.838384  27.984713\n",
              "96  1.878788  24.512449\n",
              "97  1.919192  31.535195\n",
              "98  1.959596  32.313269\n",
              "99  2.000000  37.424469\n",
              "\n",
              "[100 rows x 2 columns]"
            ]
          },
          "metadata": {},
          "execution_count": 2
        }
      ]
    },
    {
      "cell_type": "markdown",
      "source": [
        "Iremos plotar um gráfico de dispersão para verificar o comportamento dos dados."
      ],
      "metadata": {
        "id": "ctLT1w8WM1g3"
      }
    },
    {
      "cell_type": "code",
      "source": [
        "import matplotlib.pyplot as plt\n",
        "import seaborn as sns"
      ],
      "metadata": {
        "id": "PM9mmpjGJZf7"
      },
      "execution_count": 3,
      "outputs": []
    },
    {
      "cell_type": "code",
      "source": [
        "sns.set_style('ticks')\n",
        "plt.figure(figsize = (8, 4), dpi = 100)\n",
        "plt.scatter(df['X'], df['Y'])\n",
        "plt.xlabel('Variável X', size = 12)\n",
        "plt.ylabel('Variável Y', size = 12)\n",
        "plt.suptitle('Visualização dos Dados', fontweight='bold', size = 16)"
      ],
      "metadata": {
        "colab": {
          "base_uri": "https://localhost:8080/",
          "height": 417
        },
        "id": "3QyP4p2ZJaEz",
        "outputId": "f637bd07-dd48-48b1-9f8f-8bc69dc8f7d0"
      },
      "execution_count": 4,
      "outputs": [
        {
          "output_type": "execute_result",
          "data": {
            "text/plain": [
              "Text(0.5, 0.98, 'Visualização dos Dados')"
            ]
          },
          "metadata": {},
          "execution_count": 4
        },
        {
          "output_type": "display_data",
          "data": {
            "image/png": "[encoded data removed]",
            "text/plain": [
              "<Figure size 800x400 with 1 Axes>"
            ]
          },
          "metadata": {}
        }
      ]
    },
    {
      "cell_type": "markdown",
      "source": [
        "Para realizar a regressão é necessário definir as variáveis."
      ],
      "metadata": {
        "id": "PnNoTgS3NYpY"
      }
    },
    {
      "cell_type": "code",
      "source": [
        "X = df['X'].values\n",
        "Y = df['Y'].values"
      ],
      "metadata": {
        "id": "T_O6mjBPGbyr"
      },
      "execution_count": 5,
      "outputs": []
    },
    {
      "cell_type": "markdown",
      "source": [
        "Agora é necessário definir o grau do polinômio que você deseja testar.\n",
        "\n",
        "> Modifique o valor da variável \"grau\" para definir o grau do polinômio.\n",
        "\n",
        "Iremos testar o polinômio de grau 3."
      ],
      "metadata": {
        "id": "ynHeWmN_N9bx"
      }
    },
    {
      "cell_type": "code",
      "source": [
        "from sklearn.preprocessing import PolynomialFeatures"
      ],
      "metadata": {
        "id": "C4MTuSgoGXe0"
      },
      "execution_count": 6,
      "outputs": []
    },
    {
      "cell_type": "code",
      "source": [
        "grau = 3\n",
        "carac = PolynomialFeatures(degree=grau)"
      ],
      "metadata": {
        "id": "e7vSBd6jGb1W"
      },
      "execution_count": 7,
      "outputs": []
    },
    {
      "cell_type": "markdown",
      "source": [
        "Nesta etapa iremos realizar a regressão polinomial."
      ],
      "metadata": {
        "id": "guPHZhKOOex4"
      }
    },
    {
      "cell_type": "code",
      "source": [
        "from sklearn.linear_model import LinearRegression"
      ],
      "metadata": {
        "id": "s_g8pe50N4PT"
      },
      "execution_count": 8,
      "outputs": []
    },
    {
      "cell_type": "code",
      "source": [
        "X = X.reshape(-1, 1)\n",
        "X_polinomio = carac.fit_transform(X)\n",
        "model = LinearRegression()"
      ],
      "metadata": {
        "id": "tKy8w2mhGb6Q"
      },
      "execution_count": 9,
      "outputs": []
    },
    {
      "cell_type": "markdown",
      "source": [
        "Agora iremos salvar os resultados."
      ],
      "metadata": {
        "id": "5DyFxmKGOnir"
      }
    },
    {
      "cell_type": "code",
      "source": [
        "result_regress = model.fit(X_polinomio, Y)\n",
        "Y_polinomio = result_regress.predict(X_polinomio)"
      ],
      "metadata": {
        "id": "UZmDzkUQIV71"
      },
      "execution_count": 10,
      "outputs": []
    },
    {
      "cell_type": "markdown",
      "source": [
        "Vamos visualizar os resultados em gráfico."
      ],
      "metadata": {
        "id": "GFCWuAoAOv9L"
      }
    },
    {
      "cell_type": "code",
      "source": [
        "sns.set_style('ticks')\n",
        "plt.figure(figsize = (8, 4), dpi = 100)\n",
        "plt.scatter(X, Y, alpha = 0.7, label = 'Dados Originais')\n",
        "plt.plot(X, Y_polinomio, color = 'tab:red', linewidth = 2, label = 'Regressão');\n",
        "plt.xlabel('Variável X', size = 12)\n",
        "plt.ylabel('Variável Y', size = 12)\n",
        "plt.suptitle('Comparação dos Dados', fontweight='bold', size = 16)\n",
        "plt.legend()"
      ],
      "metadata": {
        "colab": {
          "base_uri": "https://localhost:8080/",
          "height": 417
        },
        "id": "ipDDIcPDKiCW",
        "outputId": "9b33c855-b4ea-4b81-9f9a-8cd1c497b975"
      },
      "execution_count": 11,
      "outputs": [
        {
          "output_type": "execute_result",
          "data": {
            "text/plain": [
              "<matplotlib.legend.Legend at 0x7fdd64bff950>"
            ]
          },
          "metadata": {},
          "execution_count": 11
        },
        {
          "output_type": "display_data",
          "data": {
            "image/png": "[encoded data removed]",
            "text/plain": [
              "<Figure size 800x400 with 1 Axes>"
            ]
          },
          "metadata": {}
        }
      ]
    },
    {
      "cell_type": "markdown",
      "source": [
        "## Métricas de erros\n",
        "Vamos visualizar os resultados com algumas métricas de análise de erros."
      ],
      "metadata": {
        "id": "k_SQpJ3uO6pf"
      }
    },
    {
      "cell_type": "markdown",
      "source": [
        "### R2\n",
        "\n",
        "O R-quadrado é uma medida de quão próximos os dados estão da linha de regressão ajustada.\n",
        "\n",
        "* Valor \"0\" indica que o modelo não explica nada da variabilidade dos dados de resposta ao redor de sua média.\n",
        "* Valor \"1\" indica que o modelo explica toda a variabilidade dos dados de resposta ao redor de sua média."
      ],
      "metadata": {
        "id": "s7IdKXRLPDI6"
      }
    },
    {
      "cell_type": "code",
      "source": [
        "from sklearn.metrics import r2_score\n",
        "r_2 = r2_score(Y, Y_polinomio)\n",
        "r_2"
      ],
      "metadata": {
        "colab": {
          "base_uri": "https://localhost:8080/"
        },
        "id": "gIa5zrHoI1pQ",
        "outputId": "4e1898c7-7eed-4847-876d-d1fcef982659"
      },
      "execution_count": 12,
      "outputs": [
        {
          "output_type": "execute_result",
          "data": {
            "text/plain": [
              "0.885656996810128"
            ]
          },
          "metadata": {},
          "execution_count": 12
        }
      ]
    },
    {
      "cell_type": "markdown",
      "source": [
        "### RMSE (Root Mean Squared Error)\n",
        "O RMSE tem é a diferença média de um valor e o seu parâmetro inicial. É destinado a compreender erros de previsão."
      ],
      "metadata": {
        "id": "2_A4PjGDPGVq"
      }
    },
    {
      "cell_type": "code",
      "source": [
        "from numpy import sqrt\n",
        "from sklearn.metrics import mean_squared_error\n",
        "rmse = sqrt(mean_squared_error(Y,Y_polinomio))\n",
        "rmse"
      ],
      "metadata": {
        "colab": {
          "base_uri": "https://localhost:8080/"
        },
        "id": "sMmkBijdL1ip",
        "outputId": "58504ff6-8603-428f-db3e-473c4de36e8c"
      },
      "execution_count": 13,
      "outputs": [
        {
          "output_type": "execute_result",
          "data": {
            "text/plain": [
              "7.44638045715726"
            ]
          },
          "metadata": {},
          "execution_count": 13
        }
      ]
    },
    {
      "cell_type": "markdown",
      "source": [
        "### MAE (Mean Absolute Error)\n",
        "O MAE mede a magnitude média dos erros de previsões, sem considerar sua direção."
      ],
      "metadata": {
        "id": "45OWBeQ_PIb-"
      }
    },
    {
      "cell_type": "code",
      "source": [
        "from sklearn.metrics import mean_absolute_error\n",
        "mae = mean_absolute_error(Y,Y_polinomio)\n",
        "mae"
      ],
      "metadata": {
        "colab": {
          "base_uri": "https://localhost:8080/"
        },
        "id": "i0bezezhMS5O",
        "outputId": "a4bb4b0f-12fd-493c-934d-5934ca543db4"
      },
      "execution_count": 14,
      "outputs": [
        {
          "output_type": "execute_result",
          "data": {
            "text/plain": [
              "6.224281163722287"
            ]
          },
          "metadata": {},
          "execution_count": 14
        }
      ]
    },
    {
      "cell_type": "markdown",
      "source": [
        "## Obtendo a equação da regressão\n",
        "Como realizamos a regressão para um polinômio de grau 3, iremos encontrar a seguinte equação:"
      ],
      "metadata": {
        "id": "Sxanu1SWPSp9"
      }
    },
    {
      "cell_type": "markdown",
      "source": [
        "##### $$Y = AX^3 + BX^2 + CX + D$$"
      ],
      "metadata": {
        "id": "AlU08x-KUQWh"
      }
    },
    {
      "cell_type": "markdown",
      "source": [
        "### Coeficientes"
      ],
      "metadata": {
        "id": "F76UMCQaUBx9"
      }
    },
    {
      "cell_type": "markdown",
      "source": [
        "Inicialmente atribua \"result\\_regress.coef\\_\" a variável \"coefs\"."
      ],
      "metadata": {
        "id": "3_osKD_rQZVq"
      }
    },
    {
      "cell_type": "code",
      "source": [
        "coefs = result_regress.coef_\n",
        "coefs"
      ],
      "metadata": {
        "colab": {
          "base_uri": "https://localhost:8080/"
        },
        "id": "yYh-bhslIV-p",
        "outputId": "0112809f-dcb4-4ca6-ded5-e0630c567735"
      },
      "execution_count": 15,
      "outputs": [
        {
          "output_type": "execute_result",
          "data": {
            "text/plain": [
              "array([ 0.        ,  7.87513606, 16.0427144 , -4.60521705])"
            ]
          },
          "metadata": {},
          "execution_count": 15
        }
      ]
    },
    {
      "cell_type": "markdown",
      "source": [
        "Para encontrar um coeficiente é só digitar \"coefs[n]\" com o número do grau desejado.\n",
        "\n",
        "Exemplo: Para encontrar o coeficiente do termo de segundo grau é só escrever \"coefs[2]\".\n",
        "\n",
        "O resultado é análogo aos outros coeficientes."
      ],
      "metadata": {
        "id": "8tGJw2M0UHps"
      }
    },
    {
      "cell_type": "code",
      "source": [
        "A = coefs[3] # Terceiro grau\n",
        "B = coefs[2] # Segundo grau\n",
        "C = coefs[1] # Primeiro grau\n",
        "print(\"Coeficiente A = {}\\nCoeficiente B = {}\\nCoeficiente C = {}\".format(A, B, C))"
      ],
      "metadata": {
        "colab": {
          "base_uri": "https://localhost:8080/"
        },
        "id": "B4kI0AOSP8BZ",
        "outputId": "0d0555c0-4995-48fb-b4a8-5c0be0cb78eb"
      },
      "execution_count": 16,
      "outputs": [
        {
          "output_type": "stream",
          "name": "stdout",
          "text": [
            "Coeficiente A = -4.60521705034287\n",
            "Coeficiente B = 16.042714402786952\n",
            "Coeficiente C = 7.875136061019185\n"
          ]
        }
      ]
    },
    {
      "cell_type": "markdown",
      "source": [
        "Para definir a constante atribua \"result\\_regress.intercept\\_\" a variável \"const\"."
      ],
      "metadata": {
        "id": "JMfQ7voTR9y2"
      }
    },
    {
      "cell_type": "code",
      "source": [
        "const = result_regress.intercept_\n",
        "const"
      ],
      "metadata": {
        "colab": {
          "base_uri": "https://localhost:8080/"
        },
        "id": "8EUimesgIWA4",
        "outputId": "de0582aa-cc7f-431c-fbac-fc366e8ac608"
      },
      "execution_count": 17,
      "outputs": [
        {
          "output_type": "execute_result",
          "data": {
            "text/plain": [
              "-20.45450684603771"
            ]
          },
          "metadata": {},
          "execution_count": 17
        }
      ]
    },
    {
      "cell_type": "markdown",
      "source": [
        "Para encontrar a constante da equação é só utilizar a variável const."
      ],
      "metadata": {
        "id": "NgF77_4sUhNH"
      }
    },
    {
      "cell_type": "code",
      "source": [
        "D = const # Constante\n",
        "print(\"Constante D = {}\".format(D))"
      ],
      "metadata": {
        "colab": {
          "base_uri": "https://localhost:8080/"
        },
        "id": "NMyHcgGPQGL-",
        "outputId": "ab86707f-0e22-45bf-b788-d099b10d1f0f"
      },
      "execution_count": 18,
      "outputs": [
        {
          "output_type": "stream",
          "name": "stdout",
          "text": [
            "Constante D = -20.45450684603771\n"
          ]
        }
      ]
    },
    {
      "cell_type": "markdown",
      "source": [
        "Após definir os coeficientes e a constante, encontramos a seguinte equação:\n",
        "> Lembre que o Python usa ponto no lugar de vírgula."
      ],
      "metadata": {
        "id": "KwZygHGmTOnc"
      }
    },
    {
      "cell_type": "markdown",
      "source": [
        "##### $$Y = (-4.60)X^3 + (16.04)X^2 + (7.87)X + (-20.45)$$"
      ],
      "metadata": {
        "id": "Nl6eGLpOUTgy"
      }
    },
    {
      "cell_type": "markdown",
      "source": [
        "***"
      ],
      "metadata": {
        "id": "RLUv1xaaY1R2"
      }
    }
  ]
}
