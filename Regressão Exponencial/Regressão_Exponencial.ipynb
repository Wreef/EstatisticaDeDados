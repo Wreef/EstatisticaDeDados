{
  "nbformat": 4,
  "nbformat_minor": 0,
  "metadata": {
    "colab": {
      "name": "Regressão Exponencial.ipynb",
      "provenance": [],
      "collapsed_sections": []
    },
    "kernelspec": {
      "name": "python3",
      "display_name": "Python 3"
    },
    "language_info": {
      "name": "python"
    }
  },
  "cells": [
    {
      "cell_type": "markdown",
      "source": [
        "***\n",
        "# <font color=navy size=9>Regressão Exponencial</font>\n",
        "***"
      ],
      "metadata": {
        "id": "tbBs2sZqImD9"
      }
    },
    {
      "cell_type": "markdown",
      "source": [
        "## Dados para regressão\n",
        "Inicialmente iremos importar os dados para realizar a regressão exponencial."
      ],
      "metadata": {
        "id": "71Waq5VWMtHF"
      }
    },
    {
      "cell_type": "code",
      "execution_count": 1,
      "metadata": {
        "id": "k2pLxCemDI0G"
      },
      "outputs": [],
      "source": [
        "import pandas as pd"
      ]
    },
    {
      "cell_type": "code",
      "source": [
        "df = pd.read_csv('dados.csv')"
      ],
      "metadata": {
        "id": "VEftOCVpGRjr"
      },
      "execution_count": 2,
      "outputs": []
    },
    {
      "cell_type": "markdown",
      "source": [
        "Exibindo os 5 primeiros dados:"
      ],
      "metadata": {
        "id": "jh2aKwbgXcMK"
      }
    },
    {
      "cell_type": "code",
      "source": [
        "df.head()"
      ],
      "metadata": {
        "colab": {
          "base_uri": "https://localhost:8080/",
          "height": 206
        },
        "id": "RgQ5bBv7V6X5",
        "outputId": "64400a96-4b54-4948-a04b-a3e8aa983148"
      },
      "execution_count": 3,
      "outputs": [
        {
          "output_type": "execute_result",
          "data": {
            "text/html": [
              "\n",
              "  <div id=\"df-1611bc35-d19a-4a02-bd49-e2a943349387\">\n",
              "    <div class=\"colab-df-container\">\n",
              "      <div>\n",
              "<style scoped>\n",
              "    .dataframe tbody tr th:only-of-type {\n",
              "        vertical-align: middle;\n",
              "    }\n",
              "\n",
              "    .dataframe tbody tr th {\n",
              "        vertical-align: top;\n",
              "    }\n",
              "\n",
              "    .dataframe thead th {\n",
              "        text-align: right;\n",
              "    }\n",
              "</style>\n",
              "<table border=\"1\" class=\"dataframe\">\n",
              "  <thead>\n",
              "    <tr style=\"text-align: right;\">\n",
              "      <th></th>\n",
              "      <th>X</th>\n",
              "      <th>Y</th>\n",
              "    </tr>\n",
              "  </thead>\n",
              "  <tbody>\n",
              "    <tr>\n",
              "      <th>0</th>\n",
              "      <td>0.0</td>\n",
              "      <td>144.0</td>\n",
              "    </tr>\n",
              "    <tr>\n",
              "      <th>1</th>\n",
              "      <td>0.2</td>\n",
              "      <td>120.0</td>\n",
              "    </tr>\n",
              "    <tr>\n",
              "      <th>2</th>\n",
              "      <td>0.4</td>\n",
              "      <td>128.0</td>\n",
              "    </tr>\n",
              "    <tr>\n",
              "      <th>3</th>\n",
              "      <td>0.6</td>\n",
              "      <td>116.0</td>\n",
              "    </tr>\n",
              "    <tr>\n",
              "      <th>4</th>\n",
              "      <td>0.8</td>\n",
              "      <td>100.0</td>\n",
              "    </tr>\n",
              "  </tbody>\n",
              "</table>\n",
              "</div>\n",
              "      <button class=\"colab-df-convert\" onclick=\"convertToInteractive('df-1611bc35-d19a-4a02-bd49-e2a943349387')\"\n",
              "              title=\"Convert this dataframe to an interactive table.\"\n",
              "              style=\"display:none;\">\n",
              "        \n",
              "  <svg xmlns=\"http://www.w3.org/2000/svg\" height=\"24px\"viewBox=\"0 0 24 24\"\n",
              "       width=\"24px\">\n",
              "    <path d=\"M0 0h24v24H0V0z\" fill=\"none\"/>\n",
              "    <path d=\"M18.56 5.44l.94 2.06.94-2.06 2.06-.94-2.06-.94-.94-2.06-.94 2.06-2.06.94zm-11 1L8.5 8.5l.94-2.06 2.06-.94-2.06-.94L8.5 2.5l-.94 2.06-2.06.94zm10 10l.94 2.06.94-2.06 2.06-.94-2.06-.94-.94-2.06-.94 2.06-2.06.94z\"/><path d=\"M17.41 7.96l-1.37-1.37c-.4-.4-.92-.59-1.43-.59-.52 0-1.04.2-1.43.59L10.3 9.45l-7.72 7.72c-.78.78-.78 2.05 0 2.83L4 21.41c.39.39.9.59 1.41.59.51 0 1.02-.2 1.41-.59l7.78-7.78 2.81-2.81c.8-.78.8-2.07 0-2.86zM5.41 20L4 18.59l7.72-7.72 1.47 1.35L5.41 20z\"/>\n",
              "  </svg>\n",
              "      </button>\n",
              "      \n",
              "  <style>\n",
              "    .colab-df-container {\n",
              "      display:flex;\n",
              "      flex-wrap:wrap;\n",
              "      gap: 12px;\n",
              "    }\n",
              "\n",
              "    .colab-df-convert {\n",
              "      background-color: #E8F0FE;\n",
              "      border: none;\n",
              "      border-radius: 50%;\n",
              "      cursor: pointer;\n",
              "      display: none;\n",
              "      fill: #1967D2;\n",
              "      height: 32px;\n",
              "      padding: 0 0 0 0;\n",
              "      width: 32px;\n",
              "    }\n",
              "\n",
              "    .colab-df-convert:hover {\n",
              "      background-color: #E2EBFA;\n",
              "      box-shadow: 0px 1px 2px rgba(60, 64, 67, 0.3), 0px 1px 3px 1px rgba(60, 64, 67, 0.15);\n",
              "      fill: #174EA6;\n",
              "    }\n",
              "\n",
              "    [theme=dark] .colab-df-convert {\n",
              "      background-color: #3B4455;\n",
              "      fill: #D2E3FC;\n",
              "    }\n",
              "\n",
              "    [theme=dark] .colab-df-convert:hover {\n",
              "      background-color: #434B5C;\n",
              "      box-shadow: 0px 1px 3px 1px rgba(0, 0, 0, 0.15);\n",
              "      filter: drop-shadow(0px 1px 2px rgba(0, 0, 0, 0.3));\n",
              "      fill: #FFFFFF;\n",
              "    }\n",
              "  </style>\n",
              "\n",
              "      <script>\n",
              "        const buttonEl =\n",
              "          document.querySelector('#df-1611bc35-d19a-4a02-bd49-e2a943349387 button.colab-df-convert');\n",
              "        buttonEl.style.display =\n",
              "          google.colab.kernel.accessAllowed ? 'block' : 'none';\n",
              "\n",
              "        async function convertToInteractive(key) {\n",
              "          const element = document.querySelector('#df-1611bc35-d19a-4a02-bd49-e2a943349387');\n",
              "          const dataTable =\n",
              "            await google.colab.kernel.invokeFunction('convertToInteractive',\n",
              "                                                     [key], {});\n",
              "          if (!dataTable) return;\n",
              "\n",
              "          const docLinkHtml = 'Like what you see? Visit the ' +\n",
              "            '<a target=\"_blank\" href=https://colab.research.google.com/notebooks/data_table.ipynb>data table notebook</a>'\n",
              "            + ' to learn more about interactive tables.';\n",
              "          element.innerHTML = '';\n",
              "          dataTable['output_type'] = 'display_data';\n",
              "          await google.colab.output.renderOutput(dataTable, element);\n",
              "          const docLink = document.createElement('div');\n",
              "          docLink.innerHTML = docLinkHtml;\n",
              "          element.appendChild(docLink);\n",
              "        }\n",
              "      </script>\n",
              "    </div>\n",
              "  </div>\n",
              "  "
            ],
            "text/plain": [
              "     X      Y\n",
              "0  0.0  144.0\n",
              "1  0.2  120.0\n",
              "2  0.4  128.0\n",
              "3  0.6  116.0\n",
              "4  0.8  100.0"
            ]
          },
          "metadata": {},
          "execution_count": 3
        }
      ]
    },
    {
      "cell_type": "markdown",
      "source": [
        "Exibindo os 5 últimos dados:"
      ],
      "metadata": {
        "id": "QR66FcBQXiXj"
      }
    },
    {
      "cell_type": "code",
      "source": [
        "df.tail()"
      ],
      "metadata": {
        "colab": {
          "base_uri": "https://localhost:8080/",
          "height": 206
        },
        "id": "QrGy3UnbV6aQ",
        "outputId": "378ef6b9-003e-45f1-d2fa-e213b046867a"
      },
      "execution_count": 4,
      "outputs": [
        {
          "output_type": "execute_result",
          "data": {
            "text/html": [
              "\n",
              "  <div id=\"df-fef35e27-15f8-4788-97d1-5fd0e65cd4af\">\n",
              "    <div class=\"colab-df-container\">\n",
              "      <div>\n",
              "<style scoped>\n",
              "    .dataframe tbody tr th:only-of-type {\n",
              "        vertical-align: middle;\n",
              "    }\n",
              "\n",
              "    .dataframe tbody tr th {\n",
              "        vertical-align: top;\n",
              "    }\n",
              "\n",
              "    .dataframe thead th {\n",
              "        text-align: right;\n",
              "    }\n",
              "</style>\n",
              "<table border=\"1\" class=\"dataframe\">\n",
              "  <thead>\n",
              "    <tr style=\"text-align: right;\">\n",
              "      <th></th>\n",
              "      <th>X</th>\n",
              "      <th>Y</th>\n",
              "    </tr>\n",
              "  </thead>\n",
              "  <tbody>\n",
              "    <tr>\n",
              "      <th>46</th>\n",
              "      <td>9.2</td>\n",
              "      <td>5.34</td>\n",
              "    </tr>\n",
              "    <tr>\n",
              "      <th>47</th>\n",
              "      <td>9.4</td>\n",
              "      <td>4.00</td>\n",
              "    </tr>\n",
              "    <tr>\n",
              "      <th>48</th>\n",
              "      <td>9.6</td>\n",
              "      <td>8.63</td>\n",
              "    </tr>\n",
              "    <tr>\n",
              "      <th>49</th>\n",
              "      <td>9.8</td>\n",
              "      <td>4.40</td>\n",
              "    </tr>\n",
              "    <tr>\n",
              "      <th>50</th>\n",
              "      <td>10.0</td>\n",
              "      <td>4.01</td>\n",
              "    </tr>\n",
              "  </tbody>\n",
              "</table>\n",
              "</div>\n",
              "      <button class=\"colab-df-convert\" onclick=\"convertToInteractive('df-fef35e27-15f8-4788-97d1-5fd0e65cd4af')\"\n",
              "              title=\"Convert this dataframe to an interactive table.\"\n",
              "              style=\"display:none;\">\n",
              "        \n",
              "  <svg xmlns=\"http://www.w3.org/2000/svg\" height=\"24px\"viewBox=\"0 0 24 24\"\n",
              "       width=\"24px\">\n",
              "    <path d=\"M0 0h24v24H0V0z\" fill=\"none\"/>\n",
              "    <path d=\"M18.56 5.44l.94 2.06.94-2.06 2.06-.94-2.06-.94-.94-2.06-.94 2.06-2.06.94zm-11 1L8.5 8.5l.94-2.06 2.06-.94-2.06-.94L8.5 2.5l-.94 2.06-2.06.94zm10 10l.94 2.06.94-2.06 2.06-.94-2.06-.94-.94-2.06-.94 2.06-2.06.94z\"/><path d=\"M17.41 7.96l-1.37-1.37c-.4-.4-.92-.59-1.43-.59-.52 0-1.04.2-1.43.59L10.3 9.45l-7.72 7.72c-.78.78-.78 2.05 0 2.83L4 21.41c.39.39.9.59 1.41.59.51 0 1.02-.2 1.41-.59l7.78-7.78 2.81-2.81c.8-.78.8-2.07 0-2.86zM5.41 20L4 18.59l7.72-7.72 1.47 1.35L5.41 20z\"/>\n",
              "  </svg>\n",
              "      </button>\n",
              "      \n",
              "  <style>\n",
              "    .colab-df-container {\n",
              "      display:flex;\n",
              "      flex-wrap:wrap;\n",
              "      gap: 12px;\n",
              "    }\n",
              "\n",
              "    .colab-df-convert {\n",
              "      background-color: #E8F0FE;\n",
              "      border: none;\n",
              "      border-radius: 50%;\n",
              "      cursor: pointer;\n",
              "      display: none;\n",
              "      fill: #1967D2;\n",
              "      height: 32px;\n",
              "      padding: 0 0 0 0;\n",
              "      width: 32px;\n",
              "    }\n",
              "\n",
              "    .colab-df-convert:hover {\n",
              "      background-color: #E2EBFA;\n",
              "      box-shadow: 0px 1px 2px rgba(60, 64, 67, 0.3), 0px 1px 3px 1px rgba(60, 64, 67, 0.15);\n",
              "      fill: #174EA6;\n",
              "    }\n",
              "\n",
              "    [theme=dark] .colab-df-convert {\n",
              "      background-color: #3B4455;\n",
              "      fill: #D2E3FC;\n",
              "    }\n",
              "\n",
              "    [theme=dark] .colab-df-convert:hover {\n",
              "      background-color: #434B5C;\n",
              "      box-shadow: 0px 1px 3px 1px rgba(0, 0, 0, 0.15);\n",
              "      filter: drop-shadow(0px 1px 2px rgba(0, 0, 0, 0.3));\n",
              "      fill: #FFFFFF;\n",
              "    }\n",
              "  </style>\n",
              "\n",
              "      <script>\n",
              "        const buttonEl =\n",
              "          document.querySelector('#df-fef35e27-15f8-4788-97d1-5fd0e65cd4af button.colab-df-convert');\n",
              "        buttonEl.style.display =\n",
              "          google.colab.kernel.accessAllowed ? 'block' : 'none';\n",
              "\n",
              "        async function convertToInteractive(key) {\n",
              "          const element = document.querySelector('#df-fef35e27-15f8-4788-97d1-5fd0e65cd4af');\n",
              "          const dataTable =\n",
              "            await google.colab.kernel.invokeFunction('convertToInteractive',\n",
              "                                                     [key], {});\n",
              "          if (!dataTable) return;\n",
              "\n",
              "          const docLinkHtml = 'Like what you see? Visit the ' +\n",
              "            '<a target=\"_blank\" href=https://colab.research.google.com/notebooks/data_table.ipynb>data table notebook</a>'\n",
              "            + ' to learn more about interactive tables.';\n",
              "          element.innerHTML = '';\n",
              "          dataTable['output_type'] = 'display_data';\n",
              "          await google.colab.output.renderOutput(dataTable, element);\n",
              "          const docLink = document.createElement('div');\n",
              "          docLink.innerHTML = docLinkHtml;\n",
              "          element.appendChild(docLink);\n",
              "        }\n",
              "      </script>\n",
              "    </div>\n",
              "  </div>\n",
              "  "
            ],
            "text/plain": [
              "       X     Y\n",
              "46   9.2  5.34\n",
              "47   9.4  4.00\n",
              "48   9.6  8.63\n",
              "49   9.8  4.40\n",
              "50  10.0  4.01"
            ]
          },
          "metadata": {},
          "execution_count": 4
        }
      ]
    },
    {
      "cell_type": "markdown",
      "source": [
        "Iremos plotar um gráfico de dispersão para verificar o comportamento dos dados."
      ],
      "metadata": {
        "id": "ctLT1w8WM1g3"
      }
    },
    {
      "cell_type": "code",
      "source": [
        "import matplotlib.pyplot as plt\n",
        "import seaborn as sns"
      ],
      "metadata": {
        "id": "PM9mmpjGJZf7"
      },
      "execution_count": 5,
      "outputs": []
    },
    {
      "cell_type": "code",
      "source": [
        "sns.set_style('ticks')\n",
        "plt.figure(figsize = (8, 4), dpi = 100)\n",
        "plt.scatter(df['X'], df['Y'])\n",
        "plt.xlabel('Variável X', size = 12)\n",
        "plt.ylabel('Variável Y', size = 12)\n",
        "plt.suptitle('Visualização dos Dados', fontweight='bold', size = 16)"
      ],
      "metadata": {
        "colab": {
          "base_uri": "https://localhost:8080/",
          "height": 443
        },
        "id": "3QyP4p2ZJaEz",
        "outputId": "1b2f67e3-710b-41cf-e83d-c84b4e571f20"
      },
      "execution_count": 6,
      "outputs": [
        {
          "output_type": "execute_result",
          "data": {
            "text/plain": [
              "Text(0.5, 0.98, 'Visualização dos Dados')"
            ]
          },
          "metadata": {},
          "execution_count": 6
        },
        {
          "output_type": "display_data",
          "data": {
            "image/png": "[encoded data removed]",
            "text/plain": [
              "<Figure size 800x400 with 1 Axes>"
            ]
          },
          "metadata": {}
        }
      ]
    },
    {
      "cell_type": "markdown",
      "source": [
        "Como se trata de regressão exponencial a equação utilizada é a seguinte:\n",
        "\n",
        "##### $$\\,Y = A\\,e\\,^{\\small(BX)}$$\n",
        "Aplicando $\\ln()$ dos dois lados da equação:\n",
        "##### $$\\,\\ln(Y) = \\ln(A\\,e\\,^{\\small(BX)})$$\n",
        "Aplicando propriedades de logarítmo:\n",
        "##### $$\\,\\ln(Y) =\\ln(A) + (BX)\\ln(e)$$\n",
        "Como $\\ln(e)=1$:\n",
        "##### $$\\,\\ln(Y) =\\ln(A) + BX$$"
      ],
      "metadata": {
        "id": "DgoPzXhNUS8q"
      }
    },
    {
      "cell_type": "markdown",
      "source": [
        "Então iremos realizar a regressão para $\\ln(Y)$ e $X$."
      ],
      "metadata": {
        "id": "8U9p0R_GZt5e"
      }
    },
    {
      "cell_type": "markdown",
      "source": [
        "Inicialmente iremos criar uma coluna de dados com $\\ln(Y)$."
      ],
      "metadata": {
        "id": "QbeAuF-haSik"
      }
    },
    {
      "cell_type": "code",
      "source": [
        "from math import log, e"
      ],
      "metadata": {
        "id": "GJK6mnm6CLb8"
      },
      "execution_count": 7,
      "outputs": []
    },
    {
      "cell_type": "code",
      "source": [
        "df['lnY'] = df['Y'].apply(lambda x: log(x))"
      ],
      "metadata": {
        "id": "wcNoerbPBOuU"
      },
      "execution_count": 8,
      "outputs": []
    },
    {
      "cell_type": "markdown",
      "source": [
        "Para realizar a regressão é necessário definir as variáveis."
      ],
      "metadata": {
        "id": "PnNoTgS3NYpY"
      }
    },
    {
      "cell_type": "code",
      "source": [
        "X = df['X'].values\n",
        "Y = df['Y'].values\n",
        "lnY = df['lnY'].values"
      ],
      "metadata": {
        "id": "T_O6mjBPGbyr"
      },
      "execution_count": 9,
      "outputs": []
    },
    {
      "cell_type": "markdown",
      "source": [
        "Nesta etapa iremos realizar a regressão exponencial. O método usado é o de Mínimos Quadrados."
      ],
      "metadata": {
        "id": "guPHZhKOOex4"
      }
    },
    {
      "cell_type": "code",
      "source": [
        "import statsmodels.api as sm"
      ],
      "metadata": {
        "id": "_X8Ad9mHDGBR"
      },
      "execution_count": null,
      "outputs": []
    },
    {
      "cell_type": "code",
      "source": [
        "X_reg = sm.add_constant(X)\n",
        "model = sm.OLS(lnY, X_reg, missing = 'drop').fit()"
      ],
      "metadata": {
        "id": "JL0-agv9CbLP"
      },
      "execution_count": 11,
      "outputs": []
    },
    {
      "cell_type": "markdown",
      "source": [
        "Agora iremos salvar os resultados."
      ],
      "metadata": {
        "id": "5DyFxmKGOnir"
      }
    },
    {
      "cell_type": "code",
      "source": [
        "coefs = model.params\n",
        "Y_pred = (e ** coefs[0]) * (e ** (coefs[1] * X))"
      ],
      "metadata": {
        "id": "AD81G0hQCbPH"
      },
      "execution_count": 12,
      "outputs": []
    },
    {
      "cell_type": "markdown",
      "source": [
        "Vamos visualizar os resultados em gráfico."
      ],
      "metadata": {
        "id": "GFCWuAoAOv9L"
      }
    },
    {
      "cell_type": "code",
      "source": [
        "sns.set_style('ticks')\n",
        "plt.figure(figsize = (8, 4), dpi = 100)\n",
        "plt.scatter(X, Y, alpha = 0.7, label = 'Dados Originais')\n",
        "plt.plot(X, Y_pred, color = 'tab:red', linewidth = 2, label = 'Regressão');\n",
        "plt.xlabel('Variável X', size = 12)\n",
        "plt.ylabel('Variável Y', size = 12)\n",
        "plt.suptitle('Comparação dos Dados', fontweight='bold', size = 16)\n",
        "plt.legend()"
      ],
      "metadata": {
        "colab": {
          "base_uri": "https://localhost:8080/",
          "height": 443
        },
        "id": "zBYvqpf3FOSl",
        "outputId": "c0f97f19-0ec8-4075-b833-06ea72521f34"
      },
      "execution_count": 13,
      "outputs": [
        {
          "output_type": "execute_result",
          "data": {
            "text/plain": [
              "<matplotlib.legend.Legend at 0x7f359ac50d90>"
            ]
          },
          "metadata": {},
          "execution_count": 13
        },
        {
          "output_type": "display_data",
          "data": {
            "image/png": "[encoded data removed]",
            "text/plain": [
              "<Figure size 800x400 with 1 Axes>"
            ]
          },
          "metadata": {}
        }
      ]
    },
    {
      "cell_type": "markdown",
      "source": [
        "## Métricas de erros\n",
        "Vamos visualizar os resultados com algumas métricas de análise de erros."
      ],
      "metadata": {
        "id": "k_SQpJ3uO6pf"
      }
    },
    {
      "cell_type": "markdown",
      "source": [
        "### R2\n",
        "\n",
        "O R-quadrado é uma medida de quão próximos os dados estão da linha de regressão ajustada.\n",
        "\n",
        "* Valor \"0\" indica que o modelo não explica nada da variabilidade dos dados de resposta ao redor de sua média.\n",
        "* Valor \"1\" indica que o modelo explica toda a variabilidade dos dados de resposta ao redor de sua média."
      ],
      "metadata": {
        "id": "s7IdKXRLPDI6"
      }
    },
    {
      "cell_type": "code",
      "source": [
        "from sklearn.metrics import r2_score\n",
        "r_2 = r2_score(Y, Y_pred)\n",
        "r_2"
      ],
      "metadata": {
        "colab": {
          "base_uri": "https://localhost:8080/"
        },
        "id": "gIa5zrHoI1pQ",
        "outputId": "8aed0607-4454-4d12-c2d9-fb5a90d490ea"
      },
      "execution_count": 14,
      "outputs": [
        {
          "output_type": "execute_result",
          "data": {
            "text/plain": [
              "0.9571635258044966"
            ]
          },
          "metadata": {},
          "execution_count": 14
        }
      ]
    },
    {
      "cell_type": "markdown",
      "source": [
        "### RMSE (Root Mean Squared Error)\n",
        "O RMSE tem é a diferença média de um valor e o seu parâmetro inicial. É destinado a compreender erros de previsão."
      ],
      "metadata": {
        "id": "2_A4PjGDPGVq"
      }
    },
    {
      "cell_type": "code",
      "source": [
        "from numpy import sqrt\n",
        "from sklearn.metrics import mean_squared_error\n",
        "rmse = sqrt(mean_squared_error(Y,Y_pred))\n",
        "rmse"
      ],
      "metadata": {
        "colab": {
          "base_uri": "https://localhost:8080/"
        },
        "id": "sMmkBijdL1ip",
        "outputId": "7e768f95-d41b-4bf2-dd7a-e3397bcc221f"
      },
      "execution_count": 15,
      "outputs": [
        {
          "output_type": "execute_result",
          "data": {
            "text/plain": [
              "7.7247875352206234"
            ]
          },
          "metadata": {},
          "execution_count": 15
        }
      ]
    },
    {
      "cell_type": "markdown",
      "source": [
        "### MAE (Mean Absolute Error)\n",
        "O MAE mede a magnitude média dos erros de previsões, sem considerar sua direção."
      ],
      "metadata": {
        "id": "45OWBeQ_PIb-"
      }
    },
    {
      "cell_type": "code",
      "source": [
        "from sklearn.metrics import mean_absolute_error\n",
        "mae = mean_absolute_error(Y,Y_pred)\n",
        "mae"
      ],
      "metadata": {
        "colab": {
          "base_uri": "https://localhost:8080/"
        },
        "id": "i0bezezhMS5O",
        "outputId": "5581ffc3-620b-435b-eb26-cfc1519f5bfd"
      },
      "execution_count": 16,
      "outputs": [
        {
          "output_type": "execute_result",
          "data": {
            "text/plain": [
              "5.561450512970165"
            ]
          },
          "metadata": {},
          "execution_count": 16
        }
      ]
    },
    {
      "cell_type": "markdown",
      "source": [
        "## Obtendo a equação da regressão\n",
        "Como realizamos a regressão exponencial, iremos encontrar a seguinte equação:"
      ],
      "metadata": {
        "id": "Sxanu1SWPSp9"
      }
    },
    {
      "cell_type": "markdown",
      "source": [
        "##### $$\\,Y = A\\,e\\,^{\\small(BX)}$$\n"
      ],
      "metadata": {
        "id": "AlU08x-KUQWh"
      }
    },
    {
      "cell_type": "markdown",
      "source": [
        "### Coeficientes"
      ],
      "metadata": {
        "id": "F76UMCQaUBx9"
      }
    },
    {
      "cell_type": "markdown",
      "source": [
        "Os coeficientes podem ser adquiridos ao utilizar o método \".params\" no resultado da regressão.\n",
        "\n",
        "Anteriormente criei a variável \"coefs\" para guardar os coeficientes. \n",
        "\n",
        "Utilizei: \"coefs = model.params\"\n",
        "\n",
        "> O valor de $\\ln(A)$ é o \"coefs[0]\"\n",
        "\n",
        "> O coeficiente B é o \"coefs[1]\"\n",
        "\n",
        "Para encontrar o valor de A é necessário calcular: $e^{\\ln(A)}$."
      ],
      "metadata": {
        "id": "3_osKD_rQZVq"
      }
    },
    {
      "cell_type": "code",
      "source": [
        "A = (e ** coefs[0]) # Coeficiente A\n",
        "B = coefs[1] # Coeficiente B\n",
        "print(\"Coeficiente A = {}\\nCoeficiente B = {}\".format(A, B))"
      ],
      "metadata": {
        "colab": {
          "base_uri": "https://localhost:8080/"
        },
        "id": "yYh-bhslIV-p",
        "outputId": "9123e074-46a2-4bc1-fe37-781663f0d567"
      },
      "execution_count": 17,
      "outputs": [
        {
          "output_type": "stream",
          "name": "stdout",
          "text": [
            "Coeficiente A = 127.62529381304601\n",
            "Coeficiente B = -0.331823528231464\n"
          ]
        }
      ]
    },
    {
      "cell_type": "markdown",
      "source": [
        "Após definir os coeficientes, encontramos a seguinte equação:\n",
        "> Lembre que o Python usa ponto no lugar de vírgula."
      ],
      "metadata": {
        "id": "KwZygHGmTOnc"
      }
    },
    {
      "cell_type": "markdown",
      "source": [
        "##### $$\\,Y = (127.62)\\,e\\,^{\\small(-0.33X)}$$"
      ],
      "metadata": {
        "id": "Nl6eGLpOUTgy"
      }
    },
    {
      "cell_type": "markdown",
      "source": [
        "***"
      ],
      "metadata": {
        "id": "MjJf7qBTVnJz"
      }
    }
  ]
}
