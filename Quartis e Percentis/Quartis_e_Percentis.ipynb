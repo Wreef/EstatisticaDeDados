{
  "nbformat": 4,
  "nbformat_minor": 0,
  "metadata": {
    "colab": {
      "name": "Quartis e Percentis.ipynb",
      "provenance": [],
      "collapsed_sections": []
    },
    "kernelspec": {
      "name": "python3",
      "display_name": "Python 3"
    },
    "language_info": {
      "name": "python"
    }
  },
  "cells": [
    {
      "cell_type": "markdown",
      "source": [
        "***\n",
        "# <font color=navy size=9>Quartis e Percentis</font>\n",
        "***"
      ],
      "metadata": {
        "id": "tbBs2sZqImD9"
      }
    },
    {
      "cell_type": "markdown",
      "source": [
        "## Abrindo o arquivo de dados\n",
        "Inicialmente iremos importar o arquivo de dados do IBGE modificado."
      ],
      "metadata": {
        "id": "71Waq5VWMtHF"
      }
    },
    {
      "cell_type": "code",
      "execution_count": 2,
      "metadata": {
        "id": "k2pLxCemDI0G"
      },
      "outputs": [],
      "source": [
        "import pandas as pd"
      ]
    },
    {
      "cell_type": "code",
      "source": [
        "df = pd.read_csv('dados.csv')\n",
        "df"
      ],
      "metadata": {
        "colab": {
          "base_uri": "https://localhost:8080/",
          "height": 424
        },
        "id": "VEftOCVpGRjr",
        "outputId": "18ed0864-1a2f-4b6b-dc0c-ae2c878bff01"
      },
      "execution_count": 3,
      "outputs": [
        {
          "output_type": "execute_result",
          "data": {
            "text/html": [
              "\n",
              "  <div id=\"df-3293a76a-0068-475e-b561-fb5d338ce8a0\">\n",
              "    <div class=\"colab-df-container\">\n",
              "      <div>\n",
              "<style scoped>\n",
              "    .dataframe tbody tr th:only-of-type {\n",
              "        vertical-align: middle;\n",
              "    }\n",
              "\n",
              "    .dataframe tbody tr th {\n",
              "        vertical-align: top;\n",
              "    }\n",
              "\n",
              "    .dataframe thead th {\n",
              "        text-align: right;\n",
              "    }\n",
              "</style>\n",
              "<table border=\"1\" class=\"dataframe\">\n",
              "  <thead>\n",
              "    <tr style=\"text-align: right;\">\n",
              "      <th></th>\n",
              "      <th>Sexo</th>\n",
              "      <th>Idade</th>\n",
              "      <th>Cor</th>\n",
              "      <th>Tempo de Estudo</th>\n",
              "      <th>Renda</th>\n",
              "      <th>Altura</th>\n",
              "    </tr>\n",
              "  </thead>\n",
              "  <tbody>\n",
              "    <tr>\n",
              "      <th>0</th>\n",
              "      <td>Masculino</td>\n",
              "      <td>23</td>\n",
              "      <td>Parda</td>\n",
              "      <td>12</td>\n",
              "      <td>800</td>\n",
              "      <td>1.60</td>\n",
              "    </tr>\n",
              "    <tr>\n",
              "      <th>1</th>\n",
              "      <td>Feminino</td>\n",
              "      <td>23</td>\n",
              "      <td>Branca</td>\n",
              "      <td>12</td>\n",
              "      <td>1150</td>\n",
              "      <td>1.74</td>\n",
              "    </tr>\n",
              "    <tr>\n",
              "      <th>2</th>\n",
              "      <td>Feminino</td>\n",
              "      <td>35</td>\n",
              "      <td>Parda</td>\n",
              "      <td>15</td>\n",
              "      <td>880</td>\n",
              "      <td>1.76</td>\n",
              "    </tr>\n",
              "    <tr>\n",
              "      <th>3</th>\n",
              "      <td>Masculino</td>\n",
              "      <td>46</td>\n",
              "      <td>Branca</td>\n",
              "      <td>6</td>\n",
              "      <td>3500</td>\n",
              "      <td>1.78</td>\n",
              "    </tr>\n",
              "    <tr>\n",
              "      <th>4</th>\n",
              "      <td>Feminino</td>\n",
              "      <td>47</td>\n",
              "      <td>Parda</td>\n",
              "      <td>9</td>\n",
              "      <td>150</td>\n",
              "      <td>1.69</td>\n",
              "    </tr>\n",
              "    <tr>\n",
              "      <th>...</th>\n",
              "      <td>...</td>\n",
              "      <td>...</td>\n",
              "      <td>...</td>\n",
              "      <td>...</td>\n",
              "      <td>...</td>\n",
              "      <td>...</td>\n",
              "    </tr>\n",
              "    <tr>\n",
              "      <th>76835</th>\n",
              "      <td>Feminino</td>\n",
              "      <td>46</td>\n",
              "      <td>Branca</td>\n",
              "      <td>11</td>\n",
              "      <td>812</td>\n",
              "      <td>1.69</td>\n",
              "    </tr>\n",
              "    <tr>\n",
              "      <th>76836</th>\n",
              "      <td>Masculino</td>\n",
              "      <td>30</td>\n",
              "      <td>Preta</td>\n",
              "      <td>7</td>\n",
              "      <td>1500</td>\n",
              "      <td>1.79</td>\n",
              "    </tr>\n",
              "    <tr>\n",
              "      <th>76837</th>\n",
              "      <td>Masculino</td>\n",
              "      <td>32</td>\n",
              "      <td>Parda</td>\n",
              "      <td>12</td>\n",
              "      <td>1300</td>\n",
              "      <td>1.83</td>\n",
              "    </tr>\n",
              "    <tr>\n",
              "      <th>76838</th>\n",
              "      <td>Masculino</td>\n",
              "      <td>57</td>\n",
              "      <td>Parda</td>\n",
              "      <td>4</td>\n",
              "      <td>1500</td>\n",
              "      <td>1.73</td>\n",
              "    </tr>\n",
              "    <tr>\n",
              "      <th>76839</th>\n",
              "      <td>Masculino</td>\n",
              "      <td>38</td>\n",
              "      <td>Parda</td>\n",
              "      <td>4</td>\n",
              "      <td>900</td>\n",
              "      <td>1.66</td>\n",
              "    </tr>\n",
              "  </tbody>\n",
              "</table>\n",
              "<p>76840 rows × 6 columns</p>\n",
              "</div>\n",
              "      <button class=\"colab-df-convert\" onclick=\"convertToInteractive('df-3293a76a-0068-475e-b561-fb5d338ce8a0')\"\n",
              "              title=\"Convert this dataframe to an interactive table.\"\n",
              "              style=\"display:none;\">\n",
              "        \n",
              "  <svg xmlns=\"http://www.w3.org/2000/svg\" height=\"24px\"viewBox=\"0 0 24 24\"\n",
              "       width=\"24px\">\n",
              "    <path d=\"M0 0h24v24H0V0z\" fill=\"none\"/>\n",
              "    <path d=\"M18.56 5.44l.94 2.06.94-2.06 2.06-.94-2.06-.94-.94-2.06-.94 2.06-2.06.94zm-11 1L8.5 8.5l.94-2.06 2.06-.94-2.06-.94L8.5 2.5l-.94 2.06-2.06.94zm10 10l.94 2.06.94-2.06 2.06-.94-2.06-.94-.94-2.06-.94 2.06-2.06.94z\"/><path d=\"M17.41 7.96l-1.37-1.37c-.4-.4-.92-.59-1.43-.59-.52 0-1.04.2-1.43.59L10.3 9.45l-7.72 7.72c-.78.78-.78 2.05 0 2.83L4 21.41c.39.39.9.59 1.41.59.51 0 1.02-.2 1.41-.59l7.78-7.78 2.81-2.81c.8-.78.8-2.07 0-2.86zM5.41 20L4 18.59l7.72-7.72 1.47 1.35L5.41 20z\"/>\n",
              "  </svg>\n",
              "      </button>\n",
              "      \n",
              "  <style>\n",
              "    .colab-df-container {\n",
              "      display:flex;\n",
              "      flex-wrap:wrap;\n",
              "      gap: 12px;\n",
              "    }\n",
              "\n",
              "    .colab-df-convert {\n",
              "      background-color: #E8F0FE;\n",
              "      border: none;\n",
              "      border-radius: 50%;\n",
              "      cursor: pointer;\n",
              "      display: none;\n",
              "      fill: #1967D2;\n",
              "      height: 32px;\n",
              "      padding: 0 0 0 0;\n",
              "      width: 32px;\n",
              "    }\n",
              "\n",
              "    .colab-df-convert:hover {\n",
              "      background-color: #E2EBFA;\n",
              "      box-shadow: 0px 1px 2px rgba(60, 64, 67, 0.3), 0px 1px 3px 1px rgba(60, 64, 67, 0.15);\n",
              "      fill: #174EA6;\n",
              "    }\n",
              "\n",
              "    [theme=dark] .colab-df-convert {\n",
              "      background-color: #3B4455;\n",
              "      fill: #D2E3FC;\n",
              "    }\n",
              "\n",
              "    [theme=dark] .colab-df-convert:hover {\n",
              "      background-color: #434B5C;\n",
              "      box-shadow: 0px 1px 3px 1px rgba(0, 0, 0, 0.15);\n",
              "      filter: drop-shadow(0px 1px 2px rgba(0, 0, 0, 0.3));\n",
              "      fill: #FFFFFF;\n",
              "    }\n",
              "  </style>\n",
              "\n",
              "      <script>\n",
              "        const buttonEl =\n",
              "          document.querySelector('#df-3293a76a-0068-475e-b561-fb5d338ce8a0 button.colab-df-convert');\n",
              "        buttonEl.style.display =\n",
              "          google.colab.kernel.accessAllowed ? 'block' : 'none';\n",
              "\n",
              "        async function convertToInteractive(key) {\n",
              "          const element = document.querySelector('#df-3293a76a-0068-475e-b561-fb5d338ce8a0');\n",
              "          const dataTable =\n",
              "            await google.colab.kernel.invokeFunction('convertToInteractive',\n",
              "                                                     [key], {});\n",
              "          if (!dataTable) return;\n",
              "\n",
              "          const docLinkHtml = 'Like what you see? Visit the ' +\n",
              "            '<a target=\"_blank\" href=https://colab.research.google.com/notebooks/data_table.ipynb>data table notebook</a>'\n",
              "            + ' to learn more about interactive tables.';\n",
              "          element.innerHTML = '';\n",
              "          dataTable['output_type'] = 'display_data';\n",
              "          await google.colab.output.renderOutput(dataTable, element);\n",
              "          const docLink = document.createElement('div');\n",
              "          docLink.innerHTML = docLinkHtml;\n",
              "          element.appendChild(docLink);\n",
              "        }\n",
              "      </script>\n",
              "    </div>\n",
              "  </div>\n",
              "  "
            ],
            "text/plain": [
              "            Sexo  Idade     Cor  Tempo de Estudo  Renda  Altura\n",
              "0      Masculino     23   Parda               12    800    1.60\n",
              "1       Feminino     23  Branca               12   1150    1.74\n",
              "2       Feminino     35   Parda               15    880    1.76\n",
              "3      Masculino     46  Branca                6   3500    1.78\n",
              "4       Feminino     47   Parda                9    150    1.69\n",
              "...          ...    ...     ...              ...    ...     ...\n",
              "76835   Feminino     46  Branca               11    812    1.69\n",
              "76836  Masculino     30   Preta                7   1500    1.79\n",
              "76837  Masculino     32   Parda               12   1300    1.83\n",
              "76838  Masculino     57   Parda                4   1500    1.73\n",
              "76839  Masculino     38   Parda                4    900    1.66\n",
              "\n",
              "[76840 rows x 6 columns]"
            ]
          },
          "metadata": {},
          "execution_count": 3
        }
      ]
    },
    {
      "cell_type": "markdown",
      "source": [
        "<p style='text-align: justify;'>A mediana divide a distribuição de dados em duas partes iguais, com relação ao número de elementos de cada parte. Já os quartis permitem dividir a distribuição em quatro partes iguais, quanto ao número de elementos de cada uma. os decis em dez partes e os centis em cem partes iguais.</p>"
      ],
      "metadata": {
        "id": "RdFPWqXVwMao"
      }
    },
    {
      "cell_type": "markdown",
      "source": [
        "Para exibir o quartil usamos o método \"quantile(a)\".\n",
        "\n",
        "O valor \"a\" representa a medida separatriz que você deseja."
      ],
      "metadata": {
        "id": "Apg_Xh8QxrnC"
      }
    },
    {
      "cell_type": "markdown",
      "source": [
        "**25%**"
      ],
      "metadata": {
        "id": "VFXoNp_AzWaI"
      }
    },
    {
      "cell_type": "code",
      "source": [
        "df['Renda'].quantile(0.25)"
      ],
      "metadata": {
        "colab": {
          "base_uri": "https://localhost:8080/"
        },
        "id": "aHLdqKtXxltF",
        "outputId": "41d5882d-1006-46c5-fb34-cfd59c0adcb2"
      },
      "execution_count": 4,
      "outputs": [
        {
          "output_type": "execute_result",
          "data": {
            "text/plain": [
              "788.0"
            ]
          },
          "metadata": {},
          "execution_count": 4
        }
      ]
    },
    {
      "cell_type": "markdown",
      "source": [
        "**75%**"
      ],
      "metadata": {
        "id": "p0boIAdhzbbB"
      }
    },
    {
      "cell_type": "code",
      "source": [
        "df['Renda'].quantile(0.75)"
      ],
      "metadata": {
        "colab": {
          "base_uri": "https://localhost:8080/"
        },
        "id": "IS8XJFHHywTx",
        "outputId": "31c39d3a-5d72-45a3-ae49-61f897ff48df"
      },
      "execution_count": 5,
      "outputs": [
        {
          "output_type": "execute_result",
          "data": {
            "text/plain": [
              "2000.0"
            ]
          },
          "metadata": {},
          "execution_count": 5
        }
      ]
    },
    {
      "cell_type": "markdown",
      "source": [
        "**50%**"
      ],
      "metadata": {
        "id": "jRwKctXGzdEP"
      }
    },
    {
      "cell_type": "code",
      "source": [
        "df['Renda'].quantile(0.5)"
      ],
      "metadata": {
        "colab": {
          "base_uri": "https://localhost:8080/"
        },
        "id": "ylKYXnzBywRI",
        "outputId": "a4c6f1e5-0f0a-4f01-e37d-5e049483abfa"
      },
      "execution_count": 6,
      "outputs": [
        {
          "output_type": "execute_result",
          "data": {
            "text/plain": [
              "1200.0"
            ]
          },
          "metadata": {},
          "execution_count": 6
        }
      ]
    },
    {
      "cell_type": "markdown",
      "source": [
        "Note que o quartil de 50% é igual a mediana."
      ],
      "metadata": {
        "id": "0RYNb1opze55"
      }
    },
    {
      "cell_type": "code",
      "source": [
        "df['Renda'].median()"
      ],
      "metadata": {
        "colab": {
          "base_uri": "https://localhost:8080/"
        },
        "id": "WmQHL5Qizjub",
        "outputId": "36068bda-83c1-4a0c-e3b1-f631637d6338"
      },
      "execution_count": 7,
      "outputs": [
        {
          "output_type": "execute_result",
          "data": {
            "text/plain": [
              "1200.0"
            ]
          },
          "metadata": {},
          "execution_count": 7
        }
      ]
    },
    {
      "cell_type": "markdown",
      "source": [
        "Os decis são calculados da mesma forma. Utilizando o método \"quantile()\"."
      ],
      "metadata": {
        "id": "zMgqY1Qqz2n_"
      }
    },
    {
      "cell_type": "code",
      "source": [
        "decis = [0.1, 0.2, 0.3, 0.4, 0.5, 0.6, 0.7, 0.8, 0.9]\n",
        "df['Renda'].quantile(decis)"
      ],
      "metadata": {
        "colab": {
          "base_uri": "https://localhost:8080/"
        },
        "id": "ulaqVDJTz6a1",
        "outputId": "33f98d75-7f3b-413c-c8e5-07a278deb159"
      },
      "execution_count": 8,
      "outputs": [
        {
          "output_type": "execute_result",
          "data": {
            "text/plain": [
              "0.1     350.0\n",
              "0.2     788.0\n",
              "0.3     800.0\n",
              "0.4    1000.0\n",
              "0.5    1200.0\n",
              "0.6    1500.0\n",
              "0.7    1900.0\n",
              "0.8    2500.0\n",
              "0.9    4000.0\n",
              "Name: Renda, dtype: float64"
            ]
          },
          "metadata": {},
          "execution_count": 8
        }
      ]
    },
    {
      "cell_type": "markdown",
      "source": [
        "Os percentis são calculados da mesma forma. Utilizando o método \"quantile()\"."
      ],
      "metadata": {
        "id": "HpJahXif0X51"
      }
    },
    {
      "cell_type": "code",
      "source": [
        "percentis = [(i / 100) for i in range(1, 100)]\n",
        "df['Renda'].quantile(percentis)"
      ],
      "metadata": {
        "colab": {
          "base_uri": "https://localhost:8080/"
        },
        "id": "iocbU4TY0YAs",
        "outputId": "4d3b06ad-8395-47dd-a95e-4f7ab93dd68a"
      },
      "execution_count": 9,
      "outputs": [
        {
          "output_type": "execute_result",
          "data": {
            "text/plain": [
              "0.01        0.0\n",
              "0.02        0.0\n",
              "0.03        0.0\n",
              "0.04       50.0\n",
              "0.05      100.0\n",
              "         ...   \n",
              "0.95     6000.0\n",
              "0.96     7000.0\n",
              "0.97     8000.0\n",
              "0.98    10000.0\n",
              "0.99    15000.0\n",
              "Name: Renda, Length: 99, dtype: float64"
            ]
          },
          "metadata": {},
          "execution_count": 9
        }
      ]
    },
    {
      "cell_type": "markdown",
      "source": [
        "### Distribuição de Frequências\n",
        "As medidas separatrizes podem ser visualizadas por meio de gráficos. A Distribuição de Frequências Acumuladas representa os quartis, decis e percentis."
      ],
      "metadata": {
        "id": "1UeXmrzq0t8F"
      }
    },
    {
      "cell_type": "code",
      "source": [
        "import seaborn as sns\n",
        "import matplotlib.pyplot as plt"
      ],
      "metadata": {
        "id": "VhpjeMNw1FBt"
      },
      "execution_count": 10,
      "outputs": []
    },
    {
      "cell_type": "code",
      "source": [
        "plt.figure(figsize=(8, 4), dpi=100)\n",
        "\n",
        "sns.distplot(df['Idade'], hist_kws = {'cumulative': True}, kde_kws = {'cumulative': True})\n",
        "\n",
        "plt.suptitle('Distribuição de Frequências Acumulada - Idade')\n",
        "plt.xlabel('Anos');"
      ],
      "metadata": {
        "colab": {
          "base_uri": "https://localhost:8080/",
          "height": 422
        },
        "id": "a27zcF7I0uC7",
        "outputId": "65c845fa-ef0a-4ca1-be82-7078a806756d"
      },
      "execution_count": 11,
      "outputs": [
        {
          "output_type": "display_data",
          "data": {
            "image/png": "[encoded data removed]",
            "text/plain": [
              "<Figure size 800x400 with 1 Axes>"
            ]
          },
          "metadata": {
            "needs_background": "light"
          }
        }
      ]
    },
    {
      "cell_type": "markdown",
      "source": [
        "## Boxplot\n",
        "<p style='text-align: justify;'>O box plot é utilizado para verificar posição, dispersão, assimetria, caudas e dados discrepantes do conjunto de dados. A posição central é dada pela mediana e a dispersão por IIQ. As posições relativas de Q1, Mediana e Q3 dão uma noção da simetria da distribuição. Os comprimentos das cauda são dados pelas linhas que vão da caixa aos valores remotos e pelos valores pouco frequêntes.</p>"
      ],
      "metadata": {
        "id": "3UKEIVbC1rYp"
      }
    },
    {
      "cell_type": "markdown",
      "source": [
        "<img src='https://caelum-online-public.s3.amazonaws.com/1177-estatistica-parte1/01/img005.png' width='65%'>"
      ],
      "metadata": {
        "id": "fBEGJIXX2GXm"
      }
    },
    {
      "cell_type": "markdown",
      "source": [
        "Vamos verificar a distribuição dos dados da coluna \"Altura\"."
      ],
      "metadata": {
        "id": "_WBvfAV42zQY"
      }
    },
    {
      "cell_type": "code",
      "source": [
        "plt.figure(figsize=(8, 4), dpi=100)\n",
        "\n",
        "sns.boxplot('Altura', data = df, orient = 'h')\n",
        "\n",
        "plt.suptitle('Boxplot - Altura')\n",
        "plt.xlabel('Comprimento (m)');"
      ],
      "metadata": {
        "colab": {
          "base_uri": "https://localhost:8080/",
          "height": 422
        },
        "id": "BhaxiAt310bT",
        "outputId": "3cda0afd-4818-4ddd-a5b9-1f3929709445"
      },
      "execution_count": 12,
      "outputs": [
        {
          "output_type": "display_data",
          "data": {
            "image/png": "[encoded data removed]",
            "text/plain": [
              "<Figure size 800x400 with 1 Axes>"
            ]
          },
          "metadata": {
            "needs_background": "light"
          }
        }
      ]
    },
    {
      "cell_type": "markdown",
      "source": [
        "Vamos verificar a distribuição dos dados da coluna \"Altura\" para cada um dos sexos."
      ],
      "metadata": {
        "id": "fVLHa7rz4BEr"
      }
    },
    {
      "cell_type": "code",
      "source": [
        "plt.figure(figsize=(8, 4), dpi=100)\n",
        "\n",
        "sns.boxplot(x = 'Altura', y = 'Sexo', data = df, orient = 'h')\n",
        "\n",
        "plt.suptitle('Boxplot - Altura por Sexo')\n",
        "plt.xlabel('Comprimento (m)');\n",
        "plt.ylabel('Sexo');"
      ],
      "metadata": {
        "colab": {
          "base_uri": "https://localhost:8080/",
          "height": 422
        },
        "id": "g1-GdRl710eH",
        "outputId": "60688801-b187-4b72-df1b-2a80e7fa46a3"
      },
      "execution_count": 13,
      "outputs": [
        {
          "output_type": "display_data",
          "data": {
            "image/png": "[encoded data removed]",
            "text/plain": [
              "<Figure size 800x400 with 1 Axes>"
            ]
          },
          "metadata": {
            "needs_background": "light"
          }
        }
      ]
    },
    {
      "cell_type": "markdown",
      "source": [
        "Vamos verificar a distribuição dos dados da coluna \"Renda\" para cada um dos sexos."
      ],
      "metadata": {
        "id": "MxbtmzAO4LY3"
      }
    },
    {
      "cell_type": "code",
      "source": [
        "plt.figure(figsize=(8, 4), dpi=100)\n",
        "\n",
        "sns.boxplot(x = 'Renda', y = 'Sexo', data = df, orient = 'h')\n",
        "\n",
        "plt.suptitle('Boxplot - Renda por Sexo')\n",
        "plt.xlabel('Valor (R$)');\n",
        "plt.ylabel('Sexo');"
      ],
      "metadata": {
        "colab": {
          "base_uri": "https://localhost:8080/",
          "height": 422
        },
        "id": "EdVAgno510g3",
        "outputId": "f773f787-2690-4c81-de74-da2af823f0a9"
      },
      "execution_count": 14,
      "outputs": [
        {
          "output_type": "display_data",
          "data": {
            "image/png": "[encoded data removed]",
            "text/plain": [
              "<Figure size 800x400 with 1 Axes>"
            ]
          },
          "metadata": {
            "needs_background": "light"
          }
        }
      ]
    },
    {
      "cell_type": "markdown",
      "source": [
        "Note que a qualidade do gráfico é afetada pelos valores discrepantes da coluna \"Renda\".\n",
        "\n",
        "Iremos verificar a renda inferiores a 5.000,00 reais."
      ],
      "metadata": {
        "id": "x-zwIhb_4giI"
      }
    },
    {
      "cell_type": "code",
      "source": [
        "plt.figure(figsize=(8, 4), dpi=100)\n",
        "\n",
        "sns.boxplot(x = 'Renda', y = 'Sexo', data = df[df['Renda'] < 5000], orient = 'h')\n",
        "\n",
        "plt.suptitle('Boxplot - Renda por Sexo')\n",
        "plt.xlabel('Valor (R$)');\n",
        "plt.ylabel('Sexo');"
      ],
      "metadata": {
        "colab": {
          "base_uri": "https://localhost:8080/",
          "height": 422
        },
        "id": "rucKHdKU10jY",
        "outputId": "b52220c7-0e9e-4b01-dfed-a27fa9b574f6"
      },
      "execution_count": 15,
      "outputs": [
        {
          "output_type": "display_data",
          "data": {
            "image/png": "[encoded data removed]",
            "text/plain": [
              "<Figure size 800x400 with 1 Axes>"
            ]
          },
          "metadata": {
            "needs_background": "light"
          }
        }
      ]
    },
    {
      "cell_type": "markdown",
      "source": [
        "Vamos verificar a distribuição dos dados da coluna \"Tempo de Estudo\"."
      ],
      "metadata": {
        "id": "OlFlj-Ky6sQ2"
      }
    },
    {
      "cell_type": "code",
      "source": [
        "plt.figure(figsize=(8, 4), dpi=100)\n",
        "\n",
        "sns.boxplot('Tempo de Estudo', data = df, orient = 'h')\n",
        "\n",
        "plt.suptitle('Boxplot - Tempo de Estudo')\n",
        "plt.xlabel('Tempo (ano)');"
      ],
      "metadata": {
        "colab": {
          "base_uri": "https://localhost:8080/",
          "height": 422
        },
        "id": "j1Llyyhy16HV",
        "outputId": "2236ebea-a4bc-4c33-ee62-5e20860d253a"
      },
      "execution_count": 16,
      "outputs": [
        {
          "output_type": "display_data",
          "data": {
            "image/png": "[encoded data removed]",
            "text/plain": [
              "<Figure size 800x400 with 1 Axes>"
            ]
          },
          "metadata": {
            "needs_background": "light"
          }
        }
      ]
    },
    {
      "cell_type": "markdown",
      "source": [
        "Vamos verificar a distribuição dos dados da coluna \"Tempo de Estudo\" para cada um dos sexos."
      ],
      "metadata": {
        "id": "gLYI8TuN61hL"
      }
    },
    {
      "cell_type": "code",
      "source": [
        "plt.figure(figsize=(8, 4), dpi=100)\n",
        "\n",
        "sns.boxplot(x = 'Tempo de Estudo', y = 'Sexo', data = df, orient = 'h')\n",
        "\n",
        "plt.suptitle('Boxplot - Tempo de Estudo por Sexo')\n",
        "plt.xlabel('Tempo (ano)');"
      ],
      "metadata": {
        "colab": {
          "base_uri": "https://localhost:8080/",
          "height": 422
        },
        "id": "1Y11boa317X0",
        "outputId": "985991d9-85c6-40ce-dd06-4b197caafbe3"
      },
      "execution_count": 17,
      "outputs": [
        {
          "output_type": "display_data",
          "data": {
            "image/png": "[encoded data removed]",
            "text/plain": [
              "<Figure size 800x400 with 1 Axes>"
            ]
          },
          "metadata": {
            "needs_background": "light"
          }
        }
      ]
    },
    {
      "cell_type": "markdown",
      "source": [
        "***"
      ],
      "metadata": {
        "id": "RLUv1xaaY1R2"
      }
    }
  ]
}