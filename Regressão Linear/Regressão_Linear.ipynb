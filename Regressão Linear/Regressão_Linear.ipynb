{
  "nbformat": 4,
  "nbformat_minor": 0,
  "metadata": {
    "colab": {
      "name": "Regressão Linear.ipynb",
      "provenance": [],
      "collapsed_sections": []
    },
    "kernelspec": {
      "name": "python3",
      "display_name": "Python 3"
    },
    "language_info": {
      "name": "python"
    }
  },
  "cells": [
    {
      "cell_type": "markdown",
      "source": [
        "***\n",
        "# <font color=navy size=9>Regressão Linear</font>\n",
        "***"
      ],
      "metadata": {
        "id": "tbBs2sZqImD9"
      }
    },
    {
      "cell_type": "markdown",
      "source": [
        "## Dados para regressão\n",
        "Inicialmente iremos importar os dados para realizar a regressão linear."
      ],
      "metadata": {
        "id": "71Waq5VWMtHF"
      }
    },
    {
      "cell_type": "code",
      "execution_count": 1,
      "metadata": {
        "id": "k2pLxCemDI0G"
      },
      "outputs": [],
      "source": [
        "import pandas as pd"
      ]
    },
    {
      "cell_type": "code",
      "source": [
        "df = pd.read_csv('dados.csv')"
      ],
      "metadata": {
        "id": "VEftOCVpGRjr"
      },
      "execution_count": 2,
      "outputs": []
    },
    {
      "cell_type": "markdown",
      "source": [
        "Exibindo os 5 primeiros dados:"
      ],
      "metadata": {
        "id": "jh2aKwbgXcMK"
      }
    },
    {
      "cell_type": "code",
      "source": [
        "df.head()"
      ],
      "metadata": {
        "colab": {
          "base_uri": "https://localhost:8080/",
          "height": 206
        },
        "id": "RgQ5bBv7V6X5",
        "outputId": "7629a52a-4f30-4e3b-e53c-3e071868d0df"
      },
      "execution_count": 3,
      "outputs": [
        {
          "output_type": "execute_result",
          "data": {
            "text/html": [
              "\n",
              "  <div id=\"df-dc7ab3ee-2ab3-4b91-8748-769d16df849f\">\n",
              "    <div class=\"colab-df-container\">\n",
              "      <div>\n",
              "<style scoped>\n",
              "    .dataframe tbody tr th:only-of-type {\n",
              "        vertical-align: middle;\n",
              "    }\n",
              "\n",
              "    .dataframe tbody tr th {\n",
              "        vertical-align: top;\n",
              "    }\n",
              "\n",
              "    .dataframe thead th {\n",
              "        text-align: right;\n",
              "    }\n",
              "</style>\n",
              "<table border=\"1\" class=\"dataframe\">\n",
              "  <thead>\n",
              "    <tr style=\"text-align: right;\">\n",
              "      <th></th>\n",
              "      <th>X</th>\n",
              "      <th>Y</th>\n",
              "    </tr>\n",
              "  </thead>\n",
              "  <tbody>\n",
              "    <tr>\n",
              "      <th>0</th>\n",
              "      <td>0.0</td>\n",
              "      <td>0.496714</td>\n",
              "    </tr>\n",
              "    <tr>\n",
              "      <th>1</th>\n",
              "      <td>0.1</td>\n",
              "      <td>0.061736</td>\n",
              "    </tr>\n",
              "    <tr>\n",
              "      <th>2</th>\n",
              "      <td>0.2</td>\n",
              "      <td>1.047689</td>\n",
              "    </tr>\n",
              "    <tr>\n",
              "      <th>3</th>\n",
              "      <td>0.3</td>\n",
              "      <td>2.123030</td>\n",
              "    </tr>\n",
              "    <tr>\n",
              "      <th>4</th>\n",
              "      <td>0.4</td>\n",
              "      <td>0.565847</td>\n",
              "    </tr>\n",
              "  </tbody>\n",
              "</table>\n",
              "</div>\n",
              "      <button class=\"colab-df-convert\" onclick=\"convertToInteractive('df-dc7ab3ee-2ab3-4b91-8748-769d16df849f')\"\n",
              "              title=\"Convert this dataframe to an interactive table.\"\n",
              "              style=\"display:none;\">\n",
              "        \n",
              "  <svg xmlns=\"http://www.w3.org/2000/svg\" height=\"24px\"viewBox=\"0 0 24 24\"\n",
              "       width=\"24px\">\n",
              "    <path d=\"M0 0h24v24H0V0z\" fill=\"none\"/>\n",
              "    <path d=\"M18.56 5.44l.94 2.06.94-2.06 2.06-.94-2.06-.94-.94-2.06-.94 2.06-2.06.94zm-11 1L8.5 8.5l.94-2.06 2.06-.94-2.06-.94L8.5 2.5l-.94 2.06-2.06.94zm10 10l.94 2.06.94-2.06 2.06-.94-2.06-.94-.94-2.06-.94 2.06-2.06.94z\"/><path d=\"M17.41 7.96l-1.37-1.37c-.4-.4-.92-.59-1.43-.59-.52 0-1.04.2-1.43.59L10.3 9.45l-7.72 7.72c-.78.78-.78 2.05 0 2.83L4 21.41c.39.39.9.59 1.41.59.51 0 1.02-.2 1.41-.59l7.78-7.78 2.81-2.81c.8-.78.8-2.07 0-2.86zM5.41 20L4 18.59l7.72-7.72 1.47 1.35L5.41 20z\"/>\n",
              "  </svg>\n",
              "      </button>\n",
              "      \n",
              "  <style>\n",
              "    .colab-df-container {\n",
              "      display:flex;\n",
              "      flex-wrap:wrap;\n",
              "      gap: 12px;\n",
              "    }\n",
              "\n",
              "    .colab-df-convert {\n",
              "      background-color: #E8F0FE;\n",
              "      border: none;\n",
              "      border-radius: 50%;\n",
              "      cursor: pointer;\n",
              "      display: none;\n",
              "      fill: #1967D2;\n",
              "      height: 32px;\n",
              "      padding: 0 0 0 0;\n",
              "      width: 32px;\n",
              "    }\n",
              "\n",
              "    .colab-df-convert:hover {\n",
              "      background-color: #E2EBFA;\n",
              "      box-shadow: 0px 1px 2px rgba(60, 64, 67, 0.3), 0px 1px 3px 1px rgba(60, 64, 67, 0.15);\n",
              "      fill: #174EA6;\n",
              "    }\n",
              "\n",
              "    [theme=dark] .colab-df-convert {\n",
              "      background-color: #3B4455;\n",
              "      fill: #D2E3FC;\n",
              "    }\n",
              "\n",
              "    [theme=dark] .colab-df-convert:hover {\n",
              "      background-color: #434B5C;\n",
              "      box-shadow: 0px 1px 3px 1px rgba(0, 0, 0, 0.15);\n",
              "      filter: drop-shadow(0px 1px 2px rgba(0, 0, 0, 0.3));\n",
              "      fill: #FFFFFF;\n",
              "    }\n",
              "  </style>\n",
              "\n",
              "      <script>\n",
              "        const buttonEl =\n",
              "          document.querySelector('#df-dc7ab3ee-2ab3-4b91-8748-769d16df849f button.colab-df-convert');\n",
              "        buttonEl.style.display =\n",
              "          google.colab.kernel.accessAllowed ? 'block' : 'none';\n",
              "\n",
              "        async function convertToInteractive(key) {\n",
              "          const element = document.querySelector('#df-dc7ab3ee-2ab3-4b91-8748-769d16df849f');\n",
              "          const dataTable =\n",
              "            await google.colab.kernel.invokeFunction('convertToInteractive',\n",
              "                                                     [key], {});\n",
              "          if (!dataTable) return;\n",
              "\n",
              "          const docLinkHtml = 'Like what you see? Visit the ' +\n",
              "            '<a target=\"_blank\" href=https://colab.research.google.com/notebooks/data_table.ipynb>data table notebook</a>'\n",
              "            + ' to learn more about interactive tables.';\n",
              "          element.innerHTML = '';\n",
              "          dataTable['output_type'] = 'display_data';\n",
              "          await google.colab.output.renderOutput(dataTable, element);\n",
              "          const docLink = document.createElement('div');\n",
              "          docLink.innerHTML = docLinkHtml;\n",
              "          element.appendChild(docLink);\n",
              "        }\n",
              "      </script>\n",
              "    </div>\n",
              "  </div>\n",
              "  "
            ],
            "text/plain": [
              "     X         Y\n",
              "0  0.0  0.496714\n",
              "1  0.1  0.061736\n",
              "2  0.2  1.047689\n",
              "3  0.3  2.123030\n",
              "4  0.4  0.565847"
            ]
          },
          "metadata": {},
          "execution_count": 3
        }
      ]
    },
    {
      "cell_type": "markdown",
      "source": [
        "Exibindo os 5 últimos dados:"
      ],
      "metadata": {
        "id": "QR66FcBQXiXj"
      }
    },
    {
      "cell_type": "code",
      "source": [
        "df.tail()"
      ],
      "metadata": {
        "colab": {
          "base_uri": "https://localhost:8080/",
          "height": 206
        },
        "id": "QrGy3UnbV6aQ",
        "outputId": "ff8f1157-b564-4749-f36f-3c5afef323bc"
      },
      "execution_count": 4,
      "outputs": [
        {
          "output_type": "execute_result",
          "data": {
            "text/html": [
              "\n",
              "  <div id=\"df-8d0abf87-6444-438e-b605-e69d5193f83d\">\n",
              "    <div class=\"colab-df-container\">\n",
              "      <div>\n",
              "<style scoped>\n",
              "    .dataframe tbody tr th:only-of-type {\n",
              "        vertical-align: middle;\n",
              "    }\n",
              "\n",
              "    .dataframe tbody tr th {\n",
              "        vertical-align: top;\n",
              "    }\n",
              "\n",
              "    .dataframe thead th {\n",
              "        text-align: right;\n",
              "    }\n",
              "</style>\n",
              "<table border=\"1\" class=\"dataframe\">\n",
              "  <thead>\n",
              "    <tr style=\"text-align: right;\">\n",
              "      <th></th>\n",
              "      <th>X</th>\n",
              "      <th>Y</th>\n",
              "    </tr>\n",
              "  </thead>\n",
              "  <tbody>\n",
              "    <tr>\n",
              "      <th>95</th>\n",
              "      <td>9.5</td>\n",
              "      <td>17.536485</td>\n",
              "    </tr>\n",
              "    <tr>\n",
              "      <th>96</th>\n",
              "      <td>9.6</td>\n",
              "      <td>19.496120</td>\n",
              "    </tr>\n",
              "    <tr>\n",
              "      <th>97</th>\n",
              "      <td>9.7</td>\n",
              "      <td>19.661055</td>\n",
              "    </tr>\n",
              "    <tr>\n",
              "      <th>98</th>\n",
              "      <td>9.8</td>\n",
              "      <td>19.605113</td>\n",
              "    </tr>\n",
              "    <tr>\n",
              "      <th>99</th>\n",
              "      <td>9.9</td>\n",
              "      <td>19.565413</td>\n",
              "    </tr>\n",
              "  </tbody>\n",
              "</table>\n",
              "</div>\n",
              "      <button class=\"colab-df-convert\" onclick=\"convertToInteractive('df-8d0abf87-6444-438e-b605-e69d5193f83d')\"\n",
              "              title=\"Convert this dataframe to an interactive table.\"\n",
              "              style=\"display:none;\">\n",
              "        \n",
              "  <svg xmlns=\"http://www.w3.org/2000/svg\" height=\"24px\"viewBox=\"0 0 24 24\"\n",
              "       width=\"24px\">\n",
              "    <path d=\"M0 0h24v24H0V0z\" fill=\"none\"/>\n",
              "    <path d=\"M18.56 5.44l.94 2.06.94-2.06 2.06-.94-2.06-.94-.94-2.06-.94 2.06-2.06.94zm-11 1L8.5 8.5l.94-2.06 2.06-.94-2.06-.94L8.5 2.5l-.94 2.06-2.06.94zm10 10l.94 2.06.94-2.06 2.06-.94-2.06-.94-.94-2.06-.94 2.06-2.06.94z\"/><path d=\"M17.41 7.96l-1.37-1.37c-.4-.4-.92-.59-1.43-.59-.52 0-1.04.2-1.43.59L10.3 9.45l-7.72 7.72c-.78.78-.78 2.05 0 2.83L4 21.41c.39.39.9.59 1.41.59.51 0 1.02-.2 1.41-.59l7.78-7.78 2.81-2.81c.8-.78.8-2.07 0-2.86zM5.41 20L4 18.59l7.72-7.72 1.47 1.35L5.41 20z\"/>\n",
              "  </svg>\n",
              "      </button>\n",
              "      \n",
              "  <style>\n",
              "    .colab-df-container {\n",
              "      display:flex;\n",
              "      flex-wrap:wrap;\n",
              "      gap: 12px;\n",
              "    }\n",
              "\n",
              "    .colab-df-convert {\n",
              "      background-color: #E8F0FE;\n",
              "      border: none;\n",
              "      border-radius: 50%;\n",
              "      cursor: pointer;\n",
              "      display: none;\n",
              "      fill: #1967D2;\n",
              "      height: 32px;\n",
              "      padding: 0 0 0 0;\n",
              "      width: 32px;\n",
              "    }\n",
              "\n",
              "    .colab-df-convert:hover {\n",
              "      background-color: #E2EBFA;\n",
              "      box-shadow: 0px 1px 2px rgba(60, 64, 67, 0.3), 0px 1px 3px 1px rgba(60, 64, 67, 0.15);\n",
              "      fill: #174EA6;\n",
              "    }\n",
              "\n",
              "    [theme=dark] .colab-df-convert {\n",
              "      background-color: #3B4455;\n",
              "      fill: #D2E3FC;\n",
              "    }\n",
              "\n",
              "    [theme=dark] .colab-df-convert:hover {\n",
              "      background-color: #434B5C;\n",
              "      box-shadow: 0px 1px 3px 1px rgba(0, 0, 0, 0.15);\n",
              "      filter: drop-shadow(0px 1px 2px rgba(0, 0, 0, 0.3));\n",
              "      fill: #FFFFFF;\n",
              "    }\n",
              "  </style>\n",
              "\n",
              "      <script>\n",
              "        const buttonEl =\n",
              "          document.querySelector('#df-8d0abf87-6444-438e-b605-e69d5193f83d button.colab-df-convert');\n",
              "        buttonEl.style.display =\n",
              "          google.colab.kernel.accessAllowed ? 'block' : 'none';\n",
              "\n",
              "        async function convertToInteractive(key) {\n",
              "          const element = document.querySelector('#df-8d0abf87-6444-438e-b605-e69d5193f83d');\n",
              "          const dataTable =\n",
              "            await google.colab.kernel.invokeFunction('convertToInteractive',\n",
              "                                                     [key], {});\n",
              "          if (!dataTable) return;\n",
              "\n",
              "          const docLinkHtml = 'Like what you see? Visit the ' +\n",
              "            '<a target=\"_blank\" href=https://colab.research.google.com/notebooks/data_table.ipynb>data table notebook</a>'\n",
              "            + ' to learn more about interactive tables.';\n",
              "          element.innerHTML = '';\n",
              "          dataTable['output_type'] = 'display_data';\n",
              "          await google.colab.output.renderOutput(dataTable, element);\n",
              "          const docLink = document.createElement('div');\n",
              "          docLink.innerHTML = docLinkHtml;\n",
              "          element.appendChild(docLink);\n",
              "        }\n",
              "      </script>\n",
              "    </div>\n",
              "  </div>\n",
              "  "
            ],
            "text/plain": [
              "      X          Y\n",
              "95  9.5  17.536485\n",
              "96  9.6  19.496120\n",
              "97  9.7  19.661055\n",
              "98  9.8  19.605113\n",
              "99  9.9  19.565413"
            ]
          },
          "metadata": {},
          "execution_count": 4
        }
      ]
    },
    {
      "cell_type": "markdown",
      "source": [
        "Iremos plotar um gráfico de dispersão para verificar o comportamento dos dados."
      ],
      "metadata": {
        "id": "ctLT1w8WM1g3"
      }
    },
    {
      "cell_type": "code",
      "source": [
        "import matplotlib.pyplot as plt\n",
        "import seaborn as sns"
      ],
      "metadata": {
        "id": "PM9mmpjGJZf7"
      },
      "execution_count": 5,
      "outputs": []
    },
    {
      "cell_type": "code",
      "source": [
        "sns.set_style('ticks')\n",
        "plt.figure(figsize = (8, 4), dpi = 100)\n",
        "plt.scatter(df['X'], df['Y'])\n",
        "plt.xlabel('Variável X', size = 12)\n",
        "plt.ylabel('Variável Y', size = 12)\n",
        "plt.suptitle('Visualização dos Dados', fontweight='bold', size = 16)"
      ],
      "metadata": {
        "colab": {
          "base_uri": "https://localhost:8080/",
          "height": 443
        },
        "id": "3QyP4p2ZJaEz",
        "outputId": "3994f8ad-24e3-44d7-c8e4-ad0c6c4c02b8"
      },
      "execution_count": 6,
      "outputs": [
        {
          "output_type": "execute_result",
          "data": {
            "text/plain": [
              "Text(0.5, 0.98, 'Visualização dos Dados')"
            ]
          },
          "metadata": {},
          "execution_count": 6
        },
        {
          "output_type": "display_data",
          "data": {
            "image/png": "[encoded data removed]",
            "text/plain": [
              "<Figure size 800x400 with 1 Axes>"
            ]
          },
          "metadata": {}
        }
      ]
    },
    {
      "cell_type": "markdown",
      "source": [
        "Como se trata de regressão linear a equação utilizada é a seguinte:\n",
        "\n",
        "##### $$\\,Y = A\\,X\\,+\\, B$$"
      ],
      "metadata": {
        "id": "DgoPzXhNUS8q"
      }
    },
    {
      "cell_type": "markdown",
      "source": [
        "Então iremos realizar a regressão para $Y$ e $X$."
      ],
      "metadata": {
        "id": "8U9p0R_GZt5e"
      }
    },
    {
      "cell_type": "markdown",
      "source": [
        "Para realizar a regressão é necessário definir as variáveis."
      ],
      "metadata": {
        "id": "PnNoTgS3NYpY"
      }
    },
    {
      "cell_type": "code",
      "source": [
        "X = df['X'].values\n",
        "Y = df['Y'].values"
      ],
      "metadata": {
        "id": "T_O6mjBPGbyr"
      },
      "execution_count": 7,
      "outputs": []
    },
    {
      "cell_type": "markdown",
      "source": [
        "Nesta etapa iremos realizar a regressão linear. O método usado é o de Mínimos Quadrados."
      ],
      "metadata": {
        "id": "guPHZhKOOex4"
      }
    },
    {
      "cell_type": "code",
      "source": [
        "import statsmodels.api as sm"
      ],
      "metadata": {
        "id": "_X8Ad9mHDGBR"
      },
      "execution_count": null,
      "outputs": []
    },
    {
      "cell_type": "code",
      "source": [
        "X_reg = sm.add_constant(X)\n",
        "model = sm.OLS(Y, X_reg, missing = 'drop').fit()"
      ],
      "metadata": {
        "id": "JL0-agv9CbLP"
      },
      "execution_count": 9,
      "outputs": []
    },
    {
      "cell_type": "markdown",
      "source": [
        "Agora iremos salvar os resultados."
      ],
      "metadata": {
        "id": "5DyFxmKGOnir"
      }
    },
    {
      "cell_type": "code",
      "source": [
        "coefs = model.params\n",
        "Y_pred = (coefs[1] * X) + (coefs[0])"
      ],
      "metadata": {
        "id": "AD81G0hQCbPH"
      },
      "execution_count": 10,
      "outputs": []
    },
    {
      "cell_type": "markdown",
      "source": [
        "Vamos visualizar os resultados em gráfico."
      ],
      "metadata": {
        "id": "GFCWuAoAOv9L"
      }
    },
    {
      "cell_type": "code",
      "source": [
        "sns.set_style('ticks')\n",
        "plt.figure(figsize = (8, 4), dpi = 100)\n",
        "plt.scatter(X, Y, alpha = 0.7, label = 'Dados Originais')\n",
        "plt.plot(X, Y_pred, color = 'tab:red', linewidth = 2, label = 'Regressão');\n",
        "plt.xlabel('Variável X', size = 12)\n",
        "plt.ylabel('Variável Y', size = 12)\n",
        "plt.suptitle('Comparação dos Dados', fontweight='bold', size = 16)\n",
        "plt.legend()"
      ],
      "metadata": {
        "colab": {
          "base_uri": "https://localhost:8080/",
          "height": 443
        },
        "id": "zBYvqpf3FOSl",
        "outputId": "f4298606-b34b-4e6b-f406-c3165b484b3e"
      },
      "execution_count": 11,
      "outputs": [
        {
          "output_type": "execute_result",
          "data": {
            "text/plain": [
              "<matplotlib.legend.Legend at 0x7f01f5a61390>"
            ]
          },
          "metadata": {},
          "execution_count": 11
        },
        {
          "output_type": "display_data",
          "data": {
            "image/png": "[encoded data removed]",
            "text/plain": [
              "<Figure size 800x400 with 1 Axes>"
            ]
          },
          "metadata": {}
        }
      ]
    },
    {
      "cell_type": "markdown",
      "source": [
        "## Métricas de erros\n",
        "Vamos visualizar os resultados com algumas métricas de análise de erros."
      ],
      "metadata": {
        "id": "k_SQpJ3uO6pf"
      }
    },
    {
      "cell_type": "markdown",
      "source": [
        "### R2\n",
        "\n",
        "O R-quadrado é uma medida de quão próximos os dados estão da linha de regressão ajustada.\n",
        "\n",
        "* Valor \"0\" indica que o modelo não explica nada da variabilidade dos dados de resposta ao redor de sua média.\n",
        "* Valor \"1\" indica que o modelo explica toda a variabilidade dos dados de resposta ao redor de sua média."
      ],
      "metadata": {
        "id": "s7IdKXRLPDI6"
      }
    },
    {
      "cell_type": "code",
      "source": [
        "from sklearn.metrics import r2_score\n",
        "r_2 = r2_score(Y, Y_pred)\n",
        "r_2"
      ],
      "metadata": {
        "colab": {
          "base_uri": "https://localhost:8080/"
        },
        "id": "gIa5zrHoI1pQ",
        "outputId": "989843c5-a8a0-48f9-cbb6-10c67d1805e1"
      },
      "execution_count": 12,
      "outputs": [
        {
          "output_type": "execute_result",
          "data": {
            "text/plain": [
              "0.976455254882662"
            ]
          },
          "metadata": {},
          "execution_count": 12
        }
      ]
    },
    {
      "cell_type": "markdown",
      "source": [
        "### RMSE (Root Mean Squared Error)\n",
        "O RMSE tem é a diferença média de um valor e o seu parâmetro inicial. É destinado a compreender erros de previsão."
      ],
      "metadata": {
        "id": "2_A4PjGDPGVq"
      }
    },
    {
      "cell_type": "code",
      "source": [
        "from numpy import sqrt\n",
        "from sklearn.metrics import mean_squared_error\n",
        "rmse = sqrt(mean_squared_error(Y,Y_pred))\n",
        "rmse"
      ],
      "metadata": {
        "colab": {
          "base_uri": "https://localhost:8080/"
        },
        "id": "sMmkBijdL1ip",
        "outputId": "7945a037-0eec-4d34-88d9-d2bcb892c9af"
      },
      "execution_count": 13,
      "outputs": [
        {
          "output_type": "execute_result",
          "data": {
            "text/plain": [
              "0.9027207284083368"
            ]
          },
          "metadata": {},
          "execution_count": 13
        }
      ]
    },
    {
      "cell_type": "markdown",
      "source": [
        "### MAE (Mean Absolute Error)\n",
        "O MAE mede a magnitude média dos erros de previsões, sem considerar sua direção."
      ],
      "metadata": {
        "id": "45OWBeQ_PIb-"
      }
    },
    {
      "cell_type": "code",
      "source": [
        "from sklearn.metrics import mean_absolute_error\n",
        "mae = mean_absolute_error(Y,Y_pred)\n",
        "mae"
      ],
      "metadata": {
        "colab": {
          "base_uri": "https://localhost:8080/"
        },
        "id": "i0bezezhMS5O",
        "outputId": "c37cefdd-dd24-4a3c-d79e-4ce4c829ef59"
      },
      "execution_count": 14,
      "outputs": [
        {
          "output_type": "execute_result",
          "data": {
            "text/plain": [
              "0.714962948096194"
            ]
          },
          "metadata": {},
          "execution_count": 14
        }
      ]
    },
    {
      "cell_type": "markdown",
      "source": [
        "## Obtendo a equação da regressão\n",
        "Como realizamos a regressão linear, iremos encontrar a seguinte equação:"
      ],
      "metadata": {
        "id": "Sxanu1SWPSp9"
      }
    },
    {
      "cell_type": "markdown",
      "source": [
        "##### $$\\,Y = A\\,X\\,+\\, B$$"
      ],
      "metadata": {
        "id": "AlU08x-KUQWh"
      }
    },
    {
      "cell_type": "markdown",
      "source": [
        "### Coeficientes"
      ],
      "metadata": {
        "id": "F76UMCQaUBx9"
      }
    },
    {
      "cell_type": "markdown",
      "source": [
        "Os coeficientes podem ser adquiridos ao utilizar o método \".params\" no resultado da regressão.\n",
        "\n",
        "Anteriormente criei a variável \"coefs\" para guardar os coeficientes. \n",
        "\n",
        "Utilizei: \"coefs = model.params\"\n",
        "\n",
        "> O valor de A é o \"coefs[1]\"\n",
        "\n",
        "> A constante B é o \"coefs[0]\""
      ],
      "metadata": {
        "id": "3_osKD_rQZVq"
      }
    },
    {
      "cell_type": "code",
      "source": [
        "A = coefs[1] # Coeficiente A\n",
        "B = coefs[0] # Constante B\n",
        "print(\"Coeficiente A = {}\\nConstante B = {}\".format(A, B))"
      ],
      "metadata": {
        "colab": {
          "base_uri": "https://localhost:8080/"
        },
        "id": "yYh-bhslIV-p",
        "outputId": "ccb746a5-45f3-4886-e9ab-2357f0da39ba"
      },
      "execution_count": 15,
      "outputs": [
        {
          "output_type": "stream",
          "name": "stdout",
          "text": [
            "Coeficiente A = 2.013932593269351\n",
            "Constante B = -0.17281285407737923\n"
          ]
        }
      ]
    },
    {
      "cell_type": "markdown",
      "source": [
        "Após definir os coeficientes, encontramos a seguinte equação:\n",
        "> Lembre que o Python usa ponto no lugar de vírgula."
      ],
      "metadata": {
        "id": "KwZygHGmTOnc"
      }
    },
    {
      "cell_type": "markdown",
      "source": [
        "##### $$\\,Y = (2.01)\\,X\\,+\\, (-0.17)$$"
      ],
      "metadata": {
        "id": "Nl6eGLpOUTgy"
      }
    },
    {
      "cell_type": "markdown",
      "source": [
        "***"
      ],
      "metadata": {
        "id": "MjJf7qBTVnJz"
      }
    }
  ]
}